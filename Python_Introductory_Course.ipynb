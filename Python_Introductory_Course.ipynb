{
 "cells": [
  {
   "cell_type": "markdown",
   "metadata": {},
   "source": [
    "# Python 3.7"
   ]
  },
  {
   "cell_type": "markdown",
   "metadata": {},
   "source": [
    "## Introduction:"
   ]
  },
  {
   "cell_type": "markdown",
   "metadata": {},
   "source": [
    "* Python is a general-purpose interpreted, interactive, object-oriented, and high-level programming language\n",
    "* Python is a high-level, interpreted, interactive and object-oriented scripting language. Python is designed to be highly readable\n",
    "* It supports functional and structured programming methods as well as OOP.\n",
    "* It can be used as a scripting language or can be compiled to byte-code for building large applications.\n",
    "* It provides very high-level dynamic data types and supports dynamic type checking.\n",
    "* It supports automatic garbage collection."
   ]
  },
  {
   "cell_type": "markdown",
   "metadata": {},
   "source": [
    "## New Features in Python3:"
   ]
  },
  {
   "cell_type": "markdown",
   "metadata": {},
   "source": [
    "### The __future__ Module"
   ]
  },
  {
   "cell_type": "markdown",
   "metadata": {},
   "source": [
    "Python 3 has some incompatiable keywords. For this The `__future__` module is introduced in Python 2.7, if incase you are planning to migrate to python 3. If incase you need python 3.x integer division in python2.7, use this import statement.\n",
    "\n",
    "`from __future__ import division`"
   ]
  },
  {
   "cell_type": "markdown",
   "metadata": {},
   "source": [
    "### The Print Statement"
   ]
  },
  {
   "cell_type": "markdown",
   "metadata": {},
   "source": [
    "The Print Statement is now made with parenthesis '()' compulsory.\n",
    "* `print \"x\"` --> is possible in python 2.x and not in python 3.x\n",
    "* `print(\"x\")` --> is possible in python 2.x and python 3.x\n",
    "The print function in python 2.x introduces newline at the end of printed data by default. This can be supressed by adding `,` at the end of the statement.\n",
    "* `print \"x\",` --> Supress newline character and prints `x`\n",
    "In Python 3.x you need to specify a argument to the print function as `end=''` for no newline, `end=' '` for space instead of newline, `end=\"some_random_string\"` for `some_random_string` instead of newline.\n",
    "* `print(\"x\", end=\" \")` --> prints `x `\n",
    "* `print(\"x\", end=\"*\")` --> prints `x*`\n",
    "* `print(\"x\", end=\"\\n\")` --> prints `x` with cursor at newline."
   ]
  },
  {
   "cell_type": "markdown",
   "metadata": {},
   "source": [
    "`_Python_3_Code_`"
   ]
  },
  {
   "cell_type": "code",
   "execution_count": 3,
   "metadata": {},
   "outputs": [
    {
     "name": "stdout",
     "output_type": "stream",
     "text": [
      "Kondiparthi Shanmukha Sarath*is author of this notebook\n"
     ]
    }
   ],
   "source": [
    "print(\"Kondiparthi Shanmukha Sarath\", end=\"*\")\n",
    "print(\"is author of this notebook\")"
   ]
  },
  {
   "cell_type": "code",
   "execution_count": 4,
   "metadata": {},
   "outputs": [
    {
     "name": "stdout",
     "output_type": "stream",
     "text": [
      "Kondiparthi Shanmukha Sarath\n",
      "is author of this notebook\n"
     ]
    }
   ],
   "source": [
    "print(\"Kondiparthi Shanmukha Sarath\", end=\"\\n\")\n",
    "print(\"is author of this notebook\")"
   ]
  },
  {
   "cell_type": "code",
   "execution_count": 7,
   "metadata": {},
   "outputs": [
    {
     "name": "stdout",
     "output_type": "stream",
     "text": [
      "Kondiparthi Shanmukha Sarath\n",
      "is author of this notebook\n"
     ]
    }
   ],
   "source": [
    "print(\"Kondiparthi Shanmukha Sarath\")\n",
    "print(\"is author of this notebook\")"
   ]
  },
  {
   "cell_type": "code",
   "execution_count": 8,
   "metadata": {},
   "outputs": [
    {
     "name": "stdout",
     "output_type": "stream",
     "text": [
      "Kondiparthi Shanmukha Sarathis author of this notebook\n"
     ]
    }
   ],
   "source": [
    "print(\"Kondiparthi Shanmukha Sarath\", end=\"\")\n",
    "print(\"is author of this notebook\")"
   ]
  },
  {
   "cell_type": "markdown",
   "metadata": {},
   "source": [
    "### Reading Input"
   ]
  },
  {
   "cell_type": "markdown",
   "metadata": {},
   "source": [
    "In Python 2.x there are two functions. `input() and raw_input()`.\n",
    "* if `input()` is provided with numbers, it considers it as integer.\n",
    "* if `input()` is provided with alphabets enclosed with `'` or `\"`, it considers it as string.\n",
    "* if `input()` is provided with numbers enclosed with `'` or `\"`, it considers it as string.\n",
    "* if `input()` is provided with alphabets (not enclosed with `'` or `\"`), it considers as a declared variable name.\n",
    "* if `raw_input()` is provided with either alphabets or numbers, which are either enclosed or not enclosed, by either `'` or `\"`, it always considers them as string inputs.\n",
    "\n",
    "In Python 3.x there is only one function. `input()`\n",
    "* if `input()` is provided with either alphabets or numbers, which are either enclosed or not enclosed, by either `'` or `\"`, it always considers them as string inputs.\n",
    "\n",
    "Efficiently `input()` in python 2.x is deprecated in python 3.x and `raw_input()` in python 2.x is renamed as `input()` in python 3.x"
   ]
  },
  {
   "cell_type": "markdown",
   "metadata": {},
   "source": [
    "`_Python_3_Code_`"
   ]
  },
  {
   "cell_type": "code",
   "execution_count": 12,
   "metadata": {},
   "outputs": [
    {
     "name": "stdout",
     "output_type": "stream",
     "text": [
      "Give any input, I read as String: Kondiparthi Shanmukha Sarath is author of this book\n"
     ]
    },
    {
     "data": {
      "text/plain": [
       "'Kondiparthi Shanmukha Sarath is author of this book'"
      ]
     },
     "execution_count": 12,
     "metadata": {},
     "output_type": "execute_result"
    }
   ],
   "source": [
    "input(\"Give any input, I read as String: \")"
   ]
  },
  {
   "cell_type": "code",
   "execution_count": 13,
   "metadata": {},
   "outputs": [
    {
     "name": "stdout",
     "output_type": "stream",
     "text": [
      "Give any input, I read as String: 0123456789\n"
     ]
    },
    {
     "data": {
      "text/plain": [
       "'0123456789'"
      ]
     },
     "execution_count": 13,
     "metadata": {},
     "output_type": "execute_result"
    }
   ],
   "source": [
    "input(\"Give any input, I read as String: \")"
   ]
  },
  {
   "cell_type": "markdown",
   "metadata": {},
   "source": [
    "### Integer Division"
   ]
  },
  {
   "cell_type": "markdown",
   "metadata": {},
   "source": [
    " In Python 2.x | In Python 3.x\n",
    " ------------ | -----------\n",
    " `3/2 = 1` | `3/2 = 1.5`\n",
    " `3.0/2 = 1.5` | `3.0/2 = 1.5`\n",
    " `3/2.0 = 1.5` | `3/2.0 = 1.5`\n",
    " `77/34 = 2` | `77/34 = 2.264705882352941`\n",
    " `77.0/34 = 2.264705882352941` | `77.0/34 = 2.264705882352941`"
   ]
  },
  {
   "cell_type": "markdown",
   "metadata": {},
   "source": [
    "`_Pyhton_3_Code_`"
   ]
  },
  {
   "cell_type": "code",
   "execution_count": 14,
   "metadata": {},
   "outputs": [
    {
     "data": {
      "text/plain": [
       "2.264705882352941"
      ]
     },
     "execution_count": 14,
     "metadata": {},
     "output_type": "execute_result"
    }
   ],
   "source": [
    "77/34"
   ]
  },
  {
   "cell_type": "markdown",
   "metadata": {},
   "source": [
    "### Unicode Representation"
   ]
  },
  {
   "cell_type": "markdown",
   "metadata": {},
   "source": [
    "* Python 2.x requires you to mark string as u incase you want that string to be stored as unicode.\n",
    "* Python 3.x stores the string as unicode by default. (UTF-8)"
   ]
  },
  {
   "cell_type": "markdown",
   "metadata": {},
   "source": [
    "### xrange() Function Removed"
   ]
  },
  {
   "cell_type": "markdown",
   "metadata": {},
   "source": [
    "In Python 2.x | In Python 3.x\n",
    "------------ | ----------\n",
    "`range()` returns list | deprecated \n",
    "`xrange()` returns object that... | `xrange()` is renamed as `range()`...\n",
    "...will only generate the list... | ...And even slicing is supported...\n",
    "...of items in range on demand... | ...in python 3.2 and above.\n",
    "... hence saving memory |  "
   ]
  },
  {
   "cell_type": "markdown",
   "metadata": {},
   "source": [
    "### Raising Exceptions\n",
    "It is recommended that we use parenthesis around the arguments of exception, while raising exceptions in python 3.x\n",
    "* `raise IOError, \"file error\"` --> This is accepted in Python 2\n",
    "* `raise IOError(\"file error\")` --> This is also accepted in Python 2\n",
    "* `raise IOError, \"file error\"` --> syntax error is raised in Python 3\n",
    "* `raise IOError(\"file error\")` --> This is the recommended syntax in Python 3"
   ]
  },
  {
   "cell_type": "markdown",
   "metadata": {},
   "source": [
    "### Arguments in Exceptions\n",
    "In Python 3, arguments to exception should be declared with 'as' keyword.\n",
    "* `except Myerror, err:` --> In Python2\n",
    "* `except Myerror as err:` --> In Python 3"
   ]
  },
  {
   "cell_type": "markdown",
   "metadata": {},
   "source": [
    "### next() Function and .next() Method\n",
    "`gen = (letter for letter in 'Hello World')`\n",
    "In Python 2.x Interpretor\n",
    "* `next(gen)` -> 'H'\n",
    "* `gen.next()` -> 'e'\n",
    "* `next(gen)` -> 'l'\n",
    "* `gen.next()` -> 'l'\n",
    "In Python 3.x Interpretor\n",
    "* `next(gen)` -> 'H'\n",
    "* `gen.next()` -> 'raises AttributeError'\n",
    "\n",
    "In Python 3.x next() is no longer a generator method."
   ]
  },
  {
   "cell_type": "markdown",
   "metadata": {},
   "source": [
    "### 2to3 Utility\n",
    "Along with Python 3 interpreter, 2to3.py script is usually installed in tools/scripts folder. It reads Python 2.x source code and applies a series of fixers to transform it into a valid Python 3.x code."
   ]
  },
  {
   "cell_type": "markdown",
   "metadata": {},
   "source": [
    "## Basic Syntax\n",
    "### Style\n",
    "* Interactive Mode\n",
    "  * Open Python Interpretor by typing `Python` in terminal.\n",
    "  * Run python commands diretly from the Interpretor. Example: `print(\"Hello World\")`\n",
    "* Script Mode\n",
    "  * Enter all the python code (Example: `print(\"Hello World\")`) in a file with `.py` extension. For example `any_name.py`\n",
    "  * Type `python any_name.py`"
   ]
  },
  {
   "cell_type": "markdown",
   "metadata": {},
   "source": [
    "### Python Identifiers\n",
    "A Python identifier is a name used to identify a variable, function, class, module or other object. An identifier starts with a letter A to Z or a to z or an underscore (_) followed by zero or more letters, underscores and digits (0 to 9).\n",
    "\n",
    "Python does not allow punctuation characters such as @, $, and % within identifiers. Python is a case sensitive programming language. Thus, Manpower and manpower are two different identifiers in Python.\n",
    "\n",
    "* Class names start with an uppercase letter. All other identifiers start with a lowercase letter.\n",
    "* Starting an identifier with a single leading underscore indicates that the identifier is private.\n",
    "* Starting an identifier with two leading underscores indicates a strong private identifier.\n",
    "* If the identifier also ends with two trailing underscores, the identifier is a language-defined special name."
   ]
  },
  {
   "cell_type": "markdown",
   "metadata": {},
   "source": [
    "### Python Reserved Keywords\n",
    "____ | ___ | ___ | ___ | ___ | ___\n",
    "----- | ---- | ---- | ---- | ---- | ----\n",
    "and | exec | not | assert | for | pass \n",
    "as | finally | or | break | from | print\n",
    "class | global | raise | continue | if | return\n",
    "def | import | try | del | in | while\n",
    "elif | is | with | else | lambda | yield\n",
    "except |"
   ]
  },
  {
   "cell_type": "markdown",
   "metadata": {},
   "source": [
    "### Lines and Indentation\n",
    "* Python does not use braces({}) to indicate blocks of code for class and function definitions or flow control. Blocks of code are denoted by line indentation, which is rigidly enforced.\n",
    "\n",
    "* The number of spaces in the indentation is variable, but all statements within the block must be indented the same amount."
   ]
  },
  {
   "cell_type": "markdown",
   "metadata": {},
   "source": [
    "### Multi-Line Statements\n",
    "Statements in Python typically end with a new line. Python, however, allows the use of the line continuation character (\\) to denote that the line should continue.\n",
    "\n",
    "* `var1 = var2 + \\`\n",
    "* `       var3 + \\`\n",
    "* `       var4`\n",
    "\n",
    "The statements contained within the [], {}, or () brackets do not need to use the line continuation character.\n",
    "\n",
    "* `list23 = [1, 2, 3, 4,`\n",
    "*             `5, 7]`"
   ]
  },
  {
   "cell_type": "code",
   "execution_count": 18,
   "metadata": {},
   "outputs": [
    {
     "name": "stdout",
     "output_type": "stream",
     "text": [
      "9\n"
     ]
    }
   ],
   "source": [
    "var1 = 2 + \\\n",
    "3 + \\\n",
    "4\n",
    "print(var1)"
   ]
  },
  {
   "cell_type": "code",
   "execution_count": 19,
   "metadata": {},
   "outputs": [
    {
     "name": "stdout",
     "output_type": "stream",
     "text": [
      "[1, 2, 3, 4, 5, 7]\n"
     ]
    }
   ],
   "source": [
    "list23 = [1, 2, 3, 4,\n",
    "5, 7]\n",
    "print(list23)"
   ]
  },
  {
   "cell_type": "markdown",
   "metadata": {},
   "source": [
    "### String quotations in Python\n",
    "* Start with `'`, `\"`, `'''` or `\"\"\"` and end with `'`, `\"`, `'''` or `\"\"\"` respectively.\n",
    "* `'` and `\"` used when the strings are single lined.\n",
    "* `'''` and `\"\"\"` are used strings are multilined."
   ]
  },
  {
   "cell_type": "code",
   "execution_count": 22,
   "metadata": {},
   "outputs": [
    {
     "name": "stdout",
     "output_type": "stream",
     "text": [
      "This is a single lined string with single quotes\n",
      "This is a single lined string with double quotes\n",
      "This is a multi-lined string wit\n",
      "h three single quotes\n",
      "This is a multi-lined string with \n",
      "three double quotes\n"
     ]
    }
   ],
   "source": [
    "string1 = 'This is a single lined string with single quotes'\n",
    "string2 = \"This is a single lined string with double quotes\"\n",
    "string3 = '''This is a multi-lined string wit\n",
    "h three single quotes'''\n",
    "string4 = \"\"\"This is a multi-lined string with \n",
    "three double quotes\"\"\"\n",
    "print (string1)\n",
    "print (string2)\n",
    "print (string3)\n",
    "print (string4)"
   ]
  },
  {
   "cell_type": "code",
   "execution_count": 24,
   "metadata": {},
   "outputs": [
    {
     "ename": "SyntaxError",
     "evalue": "EOL while scanning string literal (<ipython-input-24-8930ec64f7e3>, line 1)",
     "output_type": "error",
     "traceback": [
      "\u001b[0;36m  File \u001b[0;32m\"<ipython-input-24-8930ec64f7e3>\"\u001b[0;36m, line \u001b[0;32m1\u001b[0m\n\u001b[0;31m    string_that_gives_error_1 = 'This string is not single lined and enclosed with\u001b[0m\n\u001b[0m                                                                                   ^\u001b[0m\n\u001b[0;31mSyntaxError\u001b[0m\u001b[0;31m:\u001b[0m EOL while scanning string literal\n"
     ]
    }
   ],
   "source": [
    "string_that_gives_error_1 = 'This string is not single lined and enclosed with \n",
    "single quotes, hence this gives error'"
   ]
  },
  {
   "cell_type": "code",
   "execution_count": 25,
   "metadata": {},
   "outputs": [
    {
     "ename": "SyntaxError",
     "evalue": "EOL while scanning string literal (<ipython-input-25-1e1f87463ad9>, line 1)",
     "output_type": "error",
     "traceback": [
      "\u001b[0;36m  File \u001b[0;32m\"<ipython-input-25-1e1f87463ad9>\"\u001b[0;36m, line \u001b[0;32m1\u001b[0m\n\u001b[0;31m    string_that_gives_error_2 = \"This string is not single lined and enclosed with\u001b[0m\n\u001b[0m                                                                                   ^\u001b[0m\n\u001b[0;31mSyntaxError\u001b[0m\u001b[0;31m:\u001b[0m EOL while scanning string literal\n"
     ]
    }
   ],
   "source": [
    "string_that_gives_error_2 = \"This string is not single lined and enclosed with \n",
    "double quotes, hence this gives error\""
   ]
  },
  {
   "cell_type": "markdown",
   "metadata": {},
   "source": [
    "### Comments in Python\n",
    "`#` is used for commenting.\n",
    "\n",
    "**Examples**\n",
    "* `# This is comment.`\n",
    "* var1 = 48 `# This is also comment`\n",
    "* `\"\"\"This is a multi-line string,\n",
    "that can be used as multiline comments.\n",
    "A String created and not assigned to any variable\"\"\"`"
   ]
  },
  {
   "cell_type": "markdown",
   "metadata": {},
   "source": [
    "### Using Blank Lines\n",
    "* A line containing only whitespace, possibly with a comment, is known as a blank line and Python totally ignores it.\n",
    "* In an interactive interpreter session, you must enter an empty physical line to terminate a multiline statement."
   ]
  },
  {
   "cell_type": "markdown",
   "metadata": {},
   "source": [
    "### Multiple Statements on a Single Line\n",
    "The semicolon ( ; ) allows multiple statements on a single line given that no statement starts a new code block.\n",
    "* `import sys; x = 'foo'; sys.stdout.write(x + '\\n')`"
   ]
  },
  {
   "cell_type": "markdown",
   "metadata": {},
   "source": [
    "### Command Line Arguments"
   ]
  },
  {
   "cell_type": "raw",
   "metadata": {},
   "source": [
    "import sys\n",
    "\n",
    "print ('Number of arguments:', len(sys.argv), 'arguments.')\n",
    "print ('Argument List:', str(sys.argv))"
   ]
  },
  {
   "cell_type": "markdown",
   "metadata": {},
   "source": [
    "Save the Above Code in fine named test.py\n",
    "\n",
    "Run the bash command as shown below."
   ]
  },
  {
   "cell_type": "raw",
   "metadata": {},
   "source": [
    "python /path/to/file/test.py arg1 arg2 arg3 arg4"
   ]
  },
  {
   "cell_type": "raw",
   "metadata": {},
   "source": [
    "Output:\n",
    "Number of arguments: 4 arguments.\n",
    "Argument List: ['test.py', 'arg1', 'arg2', 'arg3']"
   ]
  },
  {
   "cell_type": "markdown",
   "metadata": {},
   "source": [
    "> GetOpt module is also helpful in dealing with Command Line Arguments.\n",
    "> **Refer getopt module docs.**"
   ]
  },
  {
   "cell_type": "markdown",
   "metadata": {},
   "source": [
    "## Variables Types\n",
    "### Assigning values\n",
    "* Variables are nothing but reserved memory locations to store values. It means that when you create a variable, you reserve some space in the memory.\n",
    "* Based on the data type of a variable, the interpreter allocates memory and decides what can be stored in the reserved memory. Therefore, by assigning different data types to the variables, you can store integers, decimals or characters in these variables.\n",
    "* Python variables do not need explicit declaration to reserve memory space. The declaration happens automatically when you assign a value to a variable."
   ]
  },
  {
   "cell_type": "code",
   "execution_count": 43,
   "metadata": {},
   "outputs": [
    {
     "name": "stdout",
     "output_type": "stream",
     "text": [
      "100\n",
      "100.004\n",
      "shammy the raja\n"
     ]
    }
   ],
   "source": [
    "counter = 100\n",
    "floating = 100.004\n",
    "string_of_char = \"shammy the raja\"\n",
    "print(counter)\n",
    "print(floating)\n",
    "print(string_of_char)"
   ]
  },
  {
   "cell_type": "markdown",
   "metadata": {},
   "source": [
    "### Multiple Assignment\n",
    "* `a = b = c = 67`\n",
    "* `a, b, c = 1, 2.3, 'shanmukha'`"
   ]
  },
  {
   "cell_type": "code",
   "execution_count": 49,
   "metadata": {},
   "outputs": [],
   "source": [
    "a = b = c = 55\n",
    "A, B, C = 1, 2.3, 'shanmukha'"
   ]
  },
  {
   "cell_type": "markdown",
   "metadata": {},
   "source": [
    "### Standard Data Types\n",
    "* Numbers\n",
    "* String\n",
    "* List\n",
    "* Tuple\n",
    "* Dictionary"
   ]
  },
  {
   "cell_type": "markdown",
   "metadata": {},
   "source": [
    "### Python Numbers\n",
    "Number data types store numeric values. Number objects are created when you assign a value to them\n",
    "* `var1 = 29`\n",
    "* `var2 = 44`\n",
    "* `var3 = 33`\n",
    "* `del var1`\n",
    "* `del var2, var3`\n",
    "\n",
    "There are three types of Numbers\n",
    "* int (Singned integers)\n",
    "* float (Floating Point Numbers)\n",
    "* complex (Complex numbers)\n",
    "\n",
    "> All integers in Python3 are represented as long integers. Hence, there is no separate number type as long."
   ]
  },
  {
   "cell_type": "markdown",
   "metadata": {},
   "source": [
    "### Python Strings\n",
    "Please find the examples."
   ]
  },
  {
   "cell_type": "raw",
   "metadata": {},
   "source": [
    "Positive Index convention\n",
    "-------------------------\n",
    "String_1 -> Kondiparthi Shanmukha Sarath is the author of this Notebook\n",
    "index    -> ^^^^^^^^^^^^^^^^^^^^^^^^^^^^^^^^^^^^^^^^^^^^^^^^^^^^^^^^^^^\n",
    "            01234567890123456789012345678901234567890123456789012345678\n",
    "            00000000001111111111222222222233333333334444444444555555555\n",
    "                        |                     |\n",
    "                        |---} index 12        |---} index 34\n",
    "                              positive-index = 12   positive index = 34\n",
    "index 00 is K\n",
    "index 01 is o\n",
    "index 37 is u.....etc.\n",
    "\n",
    "Negative index convention\n",
    "-------------------------\n",
    "String_1 -> Kondiparthi Shanmukha Sarath is the author of this Notebook\n",
    "index    -> ^^^^^^^^^^^^^^^^^^^^^^^^^^^^^^^^^^^^^^^^^^^^^^^^^^^^^^^^^^^\n",
    "Negative    98765432109876543210987654321098765432109876543210987654321\n",
    "index    -> 55555555554444444444333333333322222222221111111111000000000\n",
    "                               |                       |\n",
    "                               |---} index -40         |---} index -16\n",
    "                                     negative-index = 40     negative-index = 16\n",
    "index -04 is b\n",
    "index -56 is d\n",
    "index -28 is \" \" space character....etc.\n",
    "\n",
    "Relation\n",
    "--------\n",
    "Positive index = pi\n",
    "Negative index = ni\n",
    "length of the string = l\n",
    "pi + ni = l"
   ]
  },
  {
   "cell_type": "code",
   "execution_count": 93,
   "metadata": {},
   "outputs": [
    {
     "name": "stdout",
     "output_type": "stream",
     "text": [
      "59\n",
      "Kondiparthi Shanmukha Sarath is the author of this Notebook\n",
      "Kondiparthi Shanmukha Sarath is the author of this Notebook\n",
      "ha Sarath is the author of this N\n",
      "diparthi Shanmukha Sarath is the a\n",
      "ua eht si htaraS ahkumnahS ihtrapi\n",
      "koobetoN siht fo rohtua eht si htaraS ahkumnahS ihtrapidnoK\n",
      "Kondiparthi Shanmukha Sarath is the author of this NotebookKondiparthi Shanmukha Sarath is the author of this NotebookKondiparthi Shanmukha Sarath is the author of this Notebook\n",
      "Kondiparthi Shanmukha Sarath is the author of this Notebook\n",
      "----THE END-------\n"
     ]
    }
   ],
   "source": [
    "String_1 = \"Kondiparthi Shanmukha Sarath is the author of this Notebook\"\n",
    "print(len(String_1))\n",
    "print(String_1)                            # Prints all the letters in String\n",
    "print(String_1[:])                         # Prints all the letters in String\n",
    "print(String_1[-40:-7])                    # Prints letters from index = -40\n",
    "print(String_1[3:37])                      # Prints letters from index = 3 to index = 36\n",
    "print(String_1[37:3:-1])                   # -1 at the end gives the sring in reverse order\n",
    "print(String_1[::-1])                      # Change parameter to -1, -2 -3 ... to draw insights\n",
    "print(String_1 * 3)                        # Repetition\n",
    "print(String_1 + \"\\n----THE END-------\")   # String concatenantion"
   ]
  },
  {
   "cell_type": "code",
   "execution_count": 97,
   "metadata": {},
   "outputs": [
    {
     "data": {
      "text/plain": [
       "'K'"
      ]
     },
     "execution_count": 97,
     "metadata": {},
     "output_type": "execute_result"
    }
   ],
   "source": [
    "String_1[-59]                              # Try with different number as parameter"
   ]
  },
  {
   "cell_type": "markdown",
   "metadata": {},
   "source": [
    "### Python Lists\n",
    "Iterable, ordered and mutable Collection data."
   ]
  },
  {
   "cell_type": "code",
   "execution_count": 106,
   "metadata": {},
   "outputs": [
    {
     "name": "stdout",
     "output_type": "stream",
     "text": [
      "['K', 'o', 'n', 'd', 'i', 'p', 'a', 'r', 't', 'h', 'i', ' ', 'S', 'h', 'a', 'n', 'm', 'u', 'k', 'h', 'a', ' ', 'S', 'a', 'r', 'a', 't', 'h', ' ', 'i', 's', ' ', 't', 'h', 'e', ' ', 'a', 'u', 't', 'h', 'o', 'r', ' ', 'o', 'f', ' ', 't', 'h', 'i', 's', ' ', 'N', 'o', 't', 'e', 'b', 'o', 'o', 'k']\n"
     ]
    }
   ],
   "source": [
    "var_list = [1, 3, 5, 212, 55]\n",
    "# Converting the string of characters into list of characters.\n",
    "list_of_chars = [x for x in (String_1)]\n",
    "print(list_of_chars)"
   ]
  },
  {
   "cell_type": "code",
   "execution_count": 109,
   "metadata": {},
   "outputs": [
    {
     "name": "stdout",
     "output_type": "stream",
     "text": [
      "59\n",
      "['K', 'o', 'n', 'd', 'i', 'p', 'a', 'r', 't', 'h', 'i', ' ', 'S', 'h', 'a', 'n', 'm', 'u', 'k', 'h', 'a', ' ', 'S', 'a', 'r', 'a', 't', 'h', ' ', 'i', 's', ' ', 't', 'h', 'e', ' ', 'a', 'u', 't', 'h', 'o', 'r', ' ', 'o', 'f', ' ', 't', 'h', 'i', 's', ' ', 'N', 'o', 't', 'e', 'b', 'o', 'o', 'k']\n",
      "------------------------\n",
      "['K', 'o', 'n', 'd', 'i', 'p', 'a', 'r', 't', 'h', 'i', ' ', 'S', 'h', 'a', 'n', 'm', 'u', 'k', 'h', 'a', ' ', 'S', 'a', 'r', 'a', 't', 'h', ' ', 'i', 's', ' ', 't', 'h', 'e', ' ', 'a', 'u', 't', 'h', 'o', 'r', ' ', 'o', 'f', ' ', 't', 'h', 'i', 's', ' ', 'N', 'o', 't', 'e', 'b', 'o', 'o', 'k']\n",
      "------------------------\n",
      "['h', 'a', ' ', 'S', 'a', 'r', 'a', 't', 'h', ' ', 'i', 's', ' ', 't', 'h', 'e', ' ', 'a', 'u', 't', 'h', 'o', 'r', ' ', 'o', 'f', ' ', 't', 'h', 'i', 's', ' ', 'N']\n",
      "------------------------\n",
      "['d', 'i', 'p', 'a', 'r', 't', 'h', 'i', ' ', 'S', 'h', 'a', 'n', 'm', 'u', 'k', 'h', 'a', ' ', 'S', 'a', 'r', 'a', 't', 'h', ' ', 'i', 's', ' ', 't', 'h', 'e', ' ', 'a']\n",
      "------------------------\n",
      "['u', 'a', ' ', 'e', 'h', 't', ' ', 's', 'i', ' ', 'h', 't', 'a', 'r', 'a', 'S', ' ', 'a', 'h', 'k', 'u', 'm', 'n', 'a', 'h', 'S', ' ', 'i', 'h', 't', 'r', 'a', 'p', 'i']\n",
      "------------------------\n",
      "['k', 'o', 'o', 'b', 'e', 't', 'o', 'N', ' ', 's', 'i', 'h', 't', ' ', 'f', 'o', ' ', 'r', 'o', 'h', 't', 'u', 'a', ' ', 'e', 'h', 't', ' ', 's', 'i', ' ', 'h', 't', 'a', 'r', 'a', 'S', ' ', 'a', 'h', 'k', 'u', 'm', 'n', 'a', 'h', 'S', ' ', 'i', 'h', 't', 'r', 'a', 'p', 'i', 'd', 'n', 'o', 'K']\n",
      "------------------------\n",
      "['K', 'o', 'n', 'd', 'i', 'p', 'a', 'r', 't', 'h', 'i', ' ', 'S', 'h', 'a', 'n', 'm', 'u', 'k', 'h', 'a', ' ', 'S', 'a', 'r', 'a', 't', 'h', ' ', 'i', 's', ' ', 't', 'h', 'e', ' ', 'a', 'u', 't', 'h', 'o', 'r', ' ', 'o', 'f', ' ', 't', 'h', 'i', 's', ' ', 'N', 'o', 't', 'e', 'b', 'o', 'o', 'k', 'K', 'o', 'n', 'd', 'i', 'p', 'a', 'r', 't', 'h', 'i', ' ', 'S', 'h', 'a', 'n', 'm', 'u', 'k', 'h', 'a', ' ', 'S', 'a', 'r', 'a', 't', 'h', ' ', 'i', 's', ' ', 't', 'h', 'e', ' ', 'a', 'u', 't', 'h', 'o', 'r', ' ', 'o', 'f', ' ', 't', 'h', 'i', 's', ' ', 'N', 'o', 't', 'e', 'b', 'o', 'o', 'k', 'K', 'o', 'n', 'd', 'i', 'p', 'a', 'r', 't', 'h', 'i', ' ', 'S', 'h', 'a', 'n', 'm', 'u', 'k', 'h', 'a', ' ', 'S', 'a', 'r', 'a', 't', 'h', ' ', 'i', 's', ' ', 't', 'h', 'e', ' ', 'a', 'u', 't', 'h', 'o', 'r', ' ', 'o', 'f', ' ', 't', 'h', 'i', 's', ' ', 'N', 'o', 't', 'e', 'b', 'o', 'o', 'k']\n",
      "------------------------\n",
      "['K', 'o', 'n', 'd', 'i', 'p', 'a', 'r', 't', 'h', 'i', ' ', 'S', 'h', 'a', 'n', 'm', 'u', 'k', 'h', 'a', ' ', 'S', 'a', 'r', 'a', 't', 'h', ' ', 'i', 's', ' ', 't', 'h', 'e', ' ', 'a', 'u', 't', 'h', 'o', 'r', ' ', 'o', 'f', ' ', 't', 'h', 'i', 's', ' ', 'N', 'o', 't', 'e', 'b', 'o', 'o', 'k', 'appending', 'another', 'list']\n"
     ]
    }
   ],
   "source": [
    "print(len(list_of_chars))\n",
    "print(list_of_chars)                            # Prints all the letters in List\n",
    "print(\"------------------------\")\n",
    "print(list_of_chars[:])                         # Prints all the letters in List\n",
    "print(\"------------------------\")\n",
    "print(list_of_chars[-40:-7])                    # Prints letters from index = -40\n",
    "print(\"------------------------\")\n",
    "print(list_of_chars[3:37])                      # Prints letters from index = 3 to index = 36\n",
    "print(\"------------------------\")\n",
    "print(list_of_chars[37:3:-1])                   # -1 at the end gives the List in reverse order\n",
    "print(\"------------------------\")\n",
    "print(list_of_chars[::-1])                      # Change parameter to -1, -2 -3 ... to draw insights\n",
    "print(\"------------------------\")\n",
    "print(list_of_chars * 3)                        # Repetition\n",
    "print(\"------------------------\")\n",
    "print(list_of_chars + [\"appending\", \"another\", \"list\"])   # List concatenantion"
   ]
  },
  {
   "cell_type": "code",
   "execution_count": 111,
   "metadata": {},
   "outputs": [
    {
     "data": {
      "text/plain": [
       "'K'"
      ]
     },
     "execution_count": 111,
     "metadata": {},
     "output_type": "execute_result"
    }
   ],
   "source": [
    "list_of_chars[-59]                                      # Try with different number input"
   ]
  },
  {
   "cell_type": "markdown",
   "metadata": {},
   "source": [
    "### Python Tuples\n",
    "Iterable, ordered and Immutable collection of data."
   ]
  },
  {
   "cell_type": "code",
   "execution_count": 113,
   "metadata": {},
   "outputs": [
    {
     "name": "stdout",
     "output_type": "stream",
     "text": [
      "('K', 'o', 'n', 'd', 'i', 'p', 'a', 'r', 't', 'h', 'i', ' ', 'S', 'h', 'a', 'n', 'm', 'u', 'k', 'h', 'a', ' ', 'S', 'a', 'r', 'a', 't', 'h', ' ', 'i', 's', ' ', 't', 'h', 'e', ' ', 'a', 'u', 't', 'h', 'o', 'r', ' ', 'o', 'f', ' ', 't', 'h', 'i', 's', ' ', 'N', 'o', 't', 'e', 'b', 'o', 'o', 'k')\n"
     ]
    }
   ],
   "source": [
    "var_tuple = (1, 3, 5, 212, 55)\n",
    "# Converting the string of characters into list of characters.\n",
    "tuple_of_chars = tuple([x for x in (String_1)])\n",
    "print(tuple_of_chars)"
   ]
  },
  {
   "cell_type": "code",
   "execution_count": 114,
   "metadata": {},
   "outputs": [
    {
     "name": "stdout",
     "output_type": "stream",
     "text": [
      "59\n",
      "('K', 'o', 'n', 'd', 'i', 'p', 'a', 'r', 't', 'h', 'i', ' ', 'S', 'h', 'a', 'n', 'm', 'u', 'k', 'h', 'a', ' ', 'S', 'a', 'r', 'a', 't', 'h', ' ', 'i', 's', ' ', 't', 'h', 'e', ' ', 'a', 'u', 't', 'h', 'o', 'r', ' ', 'o', 'f', ' ', 't', 'h', 'i', 's', ' ', 'N', 'o', 't', 'e', 'b', 'o', 'o', 'k')\n",
      "------------------------\n",
      "('K', 'o', 'n', 'd', 'i', 'p', 'a', 'r', 't', 'h', 'i', ' ', 'S', 'h', 'a', 'n', 'm', 'u', 'k', 'h', 'a', ' ', 'S', 'a', 'r', 'a', 't', 'h', ' ', 'i', 's', ' ', 't', 'h', 'e', ' ', 'a', 'u', 't', 'h', 'o', 'r', ' ', 'o', 'f', ' ', 't', 'h', 'i', 's', ' ', 'N', 'o', 't', 'e', 'b', 'o', 'o', 'k')\n",
      "------------------------\n",
      "('h', 'a', ' ', 'S', 'a', 'r', 'a', 't', 'h', ' ', 'i', 's', ' ', 't', 'h', 'e', ' ', 'a', 'u', 't', 'h', 'o', 'r', ' ', 'o', 'f', ' ', 't', 'h', 'i', 's', ' ', 'N')\n",
      "------------------------\n",
      "('d', 'i', 'p', 'a', 'r', 't', 'h', 'i', ' ', 'S', 'h', 'a', 'n', 'm', 'u', 'k', 'h', 'a', ' ', 'S', 'a', 'r', 'a', 't', 'h', ' ', 'i', 's', ' ', 't', 'h', 'e', ' ', 'a')\n",
      "------------------------\n",
      "('u', 'a', ' ', 'e', 'h', 't', ' ', 's', 'i', ' ', 'h', 't', 'a', 'r', 'a', 'S', ' ', 'a', 'h', 'k', 'u', 'm', 'n', 'a', 'h', 'S', ' ', 'i', 'h', 't', 'r', 'a', 'p', 'i')\n",
      "------------------------\n",
      "('k', 'o', 'o', 'b', 'e', 't', 'o', 'N', ' ', 's', 'i', 'h', 't', ' ', 'f', 'o', ' ', 'r', 'o', 'h', 't', 'u', 'a', ' ', 'e', 'h', 't', ' ', 's', 'i', ' ', 'h', 't', 'a', 'r', 'a', 'S', ' ', 'a', 'h', 'k', 'u', 'm', 'n', 'a', 'h', 'S', ' ', 'i', 'h', 't', 'r', 'a', 'p', 'i', 'd', 'n', 'o', 'K')\n",
      "------------------------\n",
      "('K', 'o', 'n', 'd', 'i', 'p', 'a', 'r', 't', 'h', 'i', ' ', 'S', 'h', 'a', 'n', 'm', 'u', 'k', 'h', 'a', ' ', 'S', 'a', 'r', 'a', 't', 'h', ' ', 'i', 's', ' ', 't', 'h', 'e', ' ', 'a', 'u', 't', 'h', 'o', 'r', ' ', 'o', 'f', ' ', 't', 'h', 'i', 's', ' ', 'N', 'o', 't', 'e', 'b', 'o', 'o', 'k', 'K', 'o', 'n', 'd', 'i', 'p', 'a', 'r', 't', 'h', 'i', ' ', 'S', 'h', 'a', 'n', 'm', 'u', 'k', 'h', 'a', ' ', 'S', 'a', 'r', 'a', 't', 'h', ' ', 'i', 's', ' ', 't', 'h', 'e', ' ', 'a', 'u', 't', 'h', 'o', 'r', ' ', 'o', 'f', ' ', 't', 'h', 'i', 's', ' ', 'N', 'o', 't', 'e', 'b', 'o', 'o', 'k', 'K', 'o', 'n', 'd', 'i', 'p', 'a', 'r', 't', 'h', 'i', ' ', 'S', 'h', 'a', 'n', 'm', 'u', 'k', 'h', 'a', ' ', 'S', 'a', 'r', 'a', 't', 'h', ' ', 'i', 's', ' ', 't', 'h', 'e', ' ', 'a', 'u', 't', 'h', 'o', 'r', ' ', 'o', 'f', ' ', 't', 'h', 'i', 's', ' ', 'N', 'o', 't', 'e', 'b', 'o', 'o', 'k')\n",
      "------------------------\n",
      "('K', 'o', 'n', 'd', 'i', 'p', 'a', 'r', 't', 'h', 'i', ' ', 'S', 'h', 'a', 'n', 'm', 'u', 'k', 'h', 'a', ' ', 'S', 'a', 'r', 'a', 't', 'h', ' ', 'i', 's', ' ', 't', 'h', 'e', ' ', 'a', 'u', 't', 'h', 'o', 'r', ' ', 'o', 'f', ' ', 't', 'h', 'i', 's', ' ', 'N', 'o', 't', 'e', 'b', 'o', 'o', 'k', 'appending', 'another', 'list')\n"
     ]
    }
   ],
   "source": [
    "print(len(tuple_of_chars))\n",
    "print(tuple_of_chars)                            # Prints all the letters in Tuple\n",
    "print(\"------------------------\")\n",
    "print(tuple_of_chars[:])                         # Prints all the letters in Tuple\n",
    "print(\"------------------------\")\n",
    "print(tuple_of_chars[-40:-7])                    # Prints letters from index = -40\n",
    "print(\"------------------------\")\n",
    "print(tuple_of_chars[3:37])                      # Prints letters from index = 3 to index = 36\n",
    "print(\"------------------------\")\n",
    "print(tuple_of_chars[37:3:-1])                   # -1 at the end gives the Tuple in reverse order\n",
    "print(\"------------------------\")\n",
    "print(tuple_of_chars[::-1])                      # Change parameter to -1, -2 -3 ... to draw insights\n",
    "print(\"------------------------\")\n",
    "print(tuple_of_chars * 3)                        # Repetition\n",
    "print(\"------------------------\")\n",
    "print(tuple_of_chars + (\"appending\", \"another\", \"list\"))   # Tuple concatenantion"
   ]
  },
  {
   "cell_type": "markdown",
   "metadata": {},
   "source": [
    "### Python Dictionary\n",
    "Mutable Hash table, consisting unordered data in key-value pairs."
   ]
  },
  {
   "cell_type": "code",
   "execution_count": 115,
   "metadata": {},
   "outputs": [
    {
     "name": "stdout",
     "output_type": "stream",
     "text": [
      "{'initial_Key': 678, 'some_Key': 78333.7834, 'one': 'This is one', 2: 'This is two', 'porto rico': 'This is a city name'}\n"
     ]
    }
   ],
   "source": [
    "var_dict = {\"initial_Key\": 678, \"some_Key\": 78333.7834}\n",
    "var_dict['one'] = \"This is one\"\n",
    "var_dict[2] = \"This is two\"\n",
    "var_dict[\"porto rico\"] = \"This is a city name\"\n",
    "print(var_dict)"
   ]
  },
  {
   "cell_type": "code",
   "execution_count": 119,
   "metadata": {},
   "outputs": [
    {
     "name": "stdout",
     "output_type": "stream",
     "text": [
      "This is one\n",
      "This is a city name\n",
      "dict_keys(['initial_Key', 'some_Key', 'one', 2, 'porto rico'])\n",
      "dict_values([678, 78333.7834, 'This is one', 'This is two', 'This is a city name'])\n",
      "<class 'dict_keys'>\n"
     ]
    }
   ],
   "source": [
    "print(var_dict['one'])\n",
    "print(var_dict['porto rico'])\n",
    "print(var_dict.keys())\n",
    "print(var_dict.values())\n",
    "print(type(var_dict.keys()))"
   ]
  },
  {
   "cell_type": "markdown",
   "metadata": {},
   "source": [
    "* `Dictionaries have no concept of order among the elements. It is incorrect to say that the elements are \"out of order\"; they are simply unordered.`"
   ]
  },
  {
   "cell_type": "markdown",
   "metadata": {},
   "source": [
    "### Data Type Conversion\n",
    "* `int(x, base=10)`           ----> Converts x to an integer. The base specifies the base if x is a string.\n",
    "* `float(x)`                  ----> Converts x to a floating-point number.\n",
    "* `complex(real, imag=0)`     ----> Creates a complex number.\n",
    "* `str(x)`                    ----> Converts object x to a string representation.\n",
    "* `repr(x)`                   ----> Converts object x to an expression string.\n",
    "* `eval(string)`              ----> Evaluates a string and returns an object.\n",
    "* `tuple(s)`                  ----> Converts s to a tuple.\n",
    "* `list(s)`                   ----> Converts s to a List.\n",
    "* `dict(d)`                   ----> Creates a dictionary. d must be a sequence of (key,value) tuples.\n",
    "* `set(s)`                    ----> Converts s to a set.\n",
    "* `frozenset(s)`              ----> Converts s to a frozen set.\n",
    "* `chr(x)`                    ----> Converts an integer to a character.\n",
    "* `unichr(x)`                 ----> Converts an integer to a Unicode character.\n",
    "* `ord(x)`                    ----> Converts a single character to its integer value.\n",
    "* `hex(x)`                    ----> Converts an integer to a hexadecimal string.\n",
    "* `oct(x)`                    ----> Converts an integer to an octal string.\n",
    "\n",
    "Experiment them."
   ]
  },
  {
   "cell_type": "code",
   "execution_count": 125,
   "metadata": {},
   "outputs": [
    {
     "data": {
      "text/plain": [
       "67"
      ]
     },
     "execution_count": 125,
     "metadata": {},
     "output_type": "execute_result"
    }
   ],
   "source": [
    "ord('C')"
   ]
  },
  {
   "cell_type": "markdown",
   "metadata": {},
   "source": [
    "## Basic Operators\n",
    "### Types of Operators\n",
    "* Arithematic Operators\n",
    "* Comparison (Relational) Operators\n",
    "* Assignment Operators\n",
    "* Logical Operators\n",
    "* Bitwise Operators\n",
    "* Membership Operators\n",
    "* Identity Operators"
   ]
  },
  {
   "cell_type": "markdown",
   "metadata": {},
   "source": [
    "### Python Arithematic Operators\n",
    "`+Addition, -Subtraction, *Multiplication, /Division, %Modulus, **Exponent, //Floor Division`\n",
    "\n",
    "Experiment them."
   ]
  },
  {
   "cell_type": "code",
   "execution_count": 130,
   "metadata": {},
   "outputs": [
    {
     "name": "stdout",
     "output_type": "stream",
     "text": [
      "4.0\n"
     ]
    }
   ],
   "source": [
    "a=23.456\n",
    "b=5\n",
    "print(a//b)"
   ]
  },
  {
   "cell_type": "markdown",
   "metadata": {},
   "source": [
    "### Python Comparison Operators\n",
    "`==Equality, !=NegationOfEquality, >GreaterThan, <LessThan, >=GreaterThanorEqualsTo, <=LessThanOrEqualsTo`\n",
    "\n",
    "Experiment them"
   ]
  },
  {
   "cell_type": "code",
   "execution_count": 135,
   "metadata": {},
   "outputs": [
    {
     "name": "stdout",
     "output_type": "stream",
     "text": [
      "False\n"
     ]
    }
   ],
   "source": [
    "a=23.456     # a='kondiparthi shanmukha sarath'\n",
    "b=5          # b='Ponnapalli Thanuja'\n",
    "print(a<b)   # Try with strings too...."
   ]
  },
  {
   "cell_type": "markdown",
   "metadata": {},
   "source": [
    "### Python Assignment Operators\n",
    "`=Assign, +=AddAndAssign, -=SubtractAndAssign, *=MultiplyAndAssign, /=DivideAndAssign, %=ModulusAndAssign, **=ExponentAndAssign, //=FloorDivisionAndAssign`\n",
    "\n",
    "Experiment them."
   ]
  },
  {
   "cell_type": "code",
   "execution_count": 137,
   "metadata": {},
   "outputs": [
    {
     "name": "stdout",
     "output_type": "stream",
     "text": [
      "28.456\n"
     ]
    }
   ],
   "source": [
    "a=23.456\n",
    "b=5\n",
    "a+=b\n",
    "print(a)"
   ]
  },
  {
   "cell_type": "markdown",
   "metadata": {},
   "source": [
    "### Python Bitwise Operators\n",
    "`&AND, |OR, ^XOR, ~Compliment, <<LeftShift, >>RightShift`\n",
    "\n",
    "Experiment them."
   ]
  },
  {
   "cell_type": "code",
   "execution_count": 142,
   "metadata": {},
   "outputs": [
    {
     "name": "stdout",
     "output_type": "stream",
     "text": [
      "0b111100\n",
      "0b1101\n",
      "0b111101\n",
      "61\n"
     ]
    }
   ],
   "source": [
    "a=60\n",
    "b=13\n",
    "print(bin(a))\n",
    "print(bin(b))\n",
    "print(bin(a | b))\n",
    "print(a | b)"
   ]
  },
  {
   "cell_type": "markdown",
   "metadata": {},
   "source": [
    "### Python Logical Operators\n",
    "`and, or, not`\n",
    "\n",
    "Experiment them."
   ]
  },
  {
   "cell_type": "code",
   "execution_count": 143,
   "metadata": {},
   "outputs": [
    {
     "name": "stdout",
     "output_type": "stream",
     "text": [
      "False\n"
     ]
    }
   ],
   "source": [
    "a=True\n",
    "b=False\n",
    "print(a and b)"
   ]
  },
  {
   "cell_type": "markdown",
   "metadata": {},
   "source": [
    "### Python Membership Operators\n",
    "`in, not in`\n",
    "\n",
    "Python’s membership operators test for membership in a sequence, such as strings, lists, or tuples.\n",
    "\n",
    "Experiment them"
   ]
  },
  {
   "cell_type": "code",
   "execution_count": 148,
   "metadata": {},
   "outputs": [
    {
     "name": "stdout",
     "output_type": "stream",
     "text": [
      "True\n"
     ]
    }
   ],
   "source": [
    "a = 45\n",
    "b = [45, 67, 88, 22]\n",
    "print(a in b)"
   ]
  },
  {
   "cell_type": "markdown",
   "metadata": {},
   "source": [
    "### Python Identity Operators\n",
    "`is, is not`\n",
    "\n",
    "Identity operators compare the memory locations of two objects.\n",
    "\n",
    "Experiment them."
   ]
  },
  {
   "cell_type": "code",
   "execution_count": 153,
   "metadata": {},
   "outputs": [
    {
     "name": "stdout",
     "output_type": "stream",
     "text": [
      "False\n",
      "True\n",
      "False\n",
      "False\n"
     ]
    }
   ],
   "source": [
    "a = c ='some_string'\n",
    "b = 'some_other_string'\n",
    "d = 7\n",
    "e = 73\n",
    "f = [1, 2, 3, 4]\n",
    "g = [1, 2, 3, 4]\n",
    "print(a is b)\n",
    "print(a in c)\n",
    "print(d is e)\n",
    "print(f is g)"
   ]
  },
  {
   "cell_type": "markdown",
   "metadata": {},
   "source": [
    "### Python Operators Precedence\n",
    "No one cares."
   ]
  },
  {
   "cell_type": "markdown",
   "metadata": {},
   "source": [
    "## Python 3 - Decision Making.\n",
    "### If else statements.\n",
    "Here Sample skeleton of the if-else structure. Experiment with different types of data in condition part of if, elif."
   ]
  },
  {
   "cell_type": "raw",
   "metadata": {},
   "source": [
    "if condition_1:\n",
    "    do_some_stuff_1\n",
    "elif condition_2:\n",
    "    if condition_3:\n",
    "        do_some_stuff_2\n",
    "    else:\n",
    "        do_some_stuff_3\n",
    "else:\n",
    "    do_some_stuff_4"
   ]
  },
  {
   "cell_type": "code",
   "execution_count": 166,
   "metadata": {},
   "outputs": [],
   "source": [
    "condition = 0\n",
    "#condition = -33\n",
    "#condition = 22\n",
    "#condition = True\n",
    "#condition = 30 in [20, 30, 50]\n",
    "if condition:\n",
    "    print('KondiparthiShanmukhaSarath')"
   ]
  },
  {
   "cell_type": "markdown",
   "metadata": {},
   "source": [
    "## Python 3 - Loops.\n",
    "### Types of Loops.\n",
    "* while loop\n",
    "* for loop\n",
    "* nested loop"
   ]
  },
  {
   "cell_type": "markdown",
   "metadata": {},
   "source": [
    "### While Loop"
   ]
  },
  {
   "cell_type": "code",
   "execution_count": 168,
   "metadata": {},
   "outputs": [
    {
     "name": "stdout",
     "output_type": "stream",
     "text": [
      "The count is: 0\n",
      "The count is: 1\n",
      "The count is: 2\n",
      "The count is: 3\n",
      "The count is: 4\n",
      "The count is: 5\n",
      "The count is: 6\n",
      "The count is: 7\n",
      "The count is: 8\n",
      "This is printed only if while loop is exited normally, and not by using any break statement.\n",
      "Good bye!\n"
     ]
    }
   ],
   "source": [
    "count = 0\n",
    "while (count < 9):\n",
    "   print ('The count is:', count)\n",
    "   count = count + 1\n",
    "else:\n",
    "    print(\"This is printed only if while loop is exited normally, and not by using any break statement.\")\n",
    "print (\"Good bye!\")"
   ]
  },
  {
   "cell_type": "markdown",
   "metadata": {},
   "source": [
    "#### Infinite while loop"
   ]
  },
  {
   "cell_type": "code",
   "execution_count": 170,
   "metadata": {},
   "outputs": [
    {
     "name": "stdout",
     "output_type": "stream",
     "text": [
      "Good bye!\n"
     ]
    }
   ],
   "source": [
    "flag = 0            # change flag = 1 to start infinite while loop.\n",
    "while (flag): print ('Given flag is really true!')\n",
    "print (\"Good bye!\")"
   ]
  },
  {
   "cell_type": "markdown",
   "metadata": {},
   "source": [
    "### For Loop"
   ]
  },
  {
   "cell_type": "markdown",
   "metadata": {},
   "source": [
    "Here is the skeleton for For loop."
   ]
  },
  {
   "cell_type": "raw",
   "metadata": {},
   "source": [
    "for iterating_var in sequence:\n",
    "   statements(s)"
   ]
  },
  {
   "cell_type": "markdown",
   "metadata": {},
   "source": [
    "#### The range() function\n",
    "range() function can be used to generate sequence objects. ie. these objects can be iterated."
   ]
  },
  {
   "cell_type": "code",
   "execution_count": 3,
   "metadata": {},
   "outputs": [
    {
     "data": {
      "text/plain": [
       "range(0, 6)"
      ]
     },
     "execution_count": 3,
     "metadata": {},
     "output_type": "execute_result"
    }
   ],
   "source": [
    "range(0, 6)"
   ]
  },
  {
   "cell_type": "code",
   "execution_count": 4,
   "metadata": {},
   "outputs": [
    {
     "data": {
      "text/plain": [
       "[0, 1, 2, 3, 4, 5]"
      ]
     },
     "execution_count": 4,
     "metadata": {},
     "output_type": "execute_result"
    }
   ],
   "source": [
    "list(range(0, 6))"
   ]
  },
  {
   "cell_type": "code",
   "execution_count": 10,
   "metadata": {},
   "outputs": [
    {
     "name": "stdout",
     "output_type": "stream",
     "text": [
      "Current Letter : P\n",
      "Current Letter : y\n",
      "Current Letter : t\n",
      "Current Letter : h\n",
      "Current Letter : o\n",
      "Current Letter : n\n",
      "\n",
      "Current fruit : banana\n",
      "Current fruit : apple\n",
      "Current fruit : mango\n",
      "0 1 2 3 4 5 6 7 Good bye!\n"
     ]
    }
   ],
   "source": [
    "for letter in 'Python':     # traversal of a string sequence\n",
    "   print ('Current Letter :', letter)\n",
    "print()\n",
    "\n",
    "fruits = ['banana', 'apple',  'mango']\n",
    "for fruit in fruits:        # traversal of List sequence\n",
    "   print ('Current fruit :', fruit)\n",
    "\n",
    "list_of_items = range(0, 8)\n",
    "for item in list_of_items:\n",
    "    print (item, end=\" \")\n",
    "\n",
    "print (\"Good bye!\")"
   ]
  },
  {
   "cell_type": "code",
   "execution_count": 13,
   "metadata": {},
   "outputs": [
    {
     "name": "stdout",
     "output_type": "stream",
     "text": [
      "0 1 2 3 4 5 6 7 This statement is executed only if for loop terminates natural exhaustion, not by break statement\n"
     ]
    }
   ],
   "source": [
    "for item in list_of_items:\n",
    "    print (item, end=\" \")\n",
    "    #break\n",
    "else:\n",
    "    print (\"This statement is executed only if for loop terminates natural exhaustion, not by break statement\")"
   ]
  },
  {
   "cell_type": "markdown",
   "metadata": {},
   "source": [
    "### Nested Loops\n",
    "Skeletons for nested loops"
   ]
  },
  {
   "cell_type": "raw",
   "metadata": {},
   "source": [
    "--> for iterating_var in sequence:\n",
    "       for iterating_var in sequence:\n",
    "          statements(s)\n",
    "       statements(s)\n",
    "\n",
    "--> while expression:\n",
    "       while expression:\n",
    "          statement(s)\n",
    "       statement(s)"
   ]
  },
  {
   "cell_type": "markdown",
   "metadata": {},
   "source": [
    "### Loop Control Statements\n",
    "* `break` statement\n",
    "* `continue` statement\n",
    "* `pass` statement\n",
    "\n",
    "`break` is used to stop the iteration of loops and continue the execution of statements right after the loop. `continue` is used to skip the current iteration of loop statements and proceed to next iteration.\n",
    "`pass` is used when you syntactically require the statement, but you dont want to have any code to be executed."
   ]
  },
  {
   "cell_type": "markdown",
   "metadata": {},
   "source": [
    "### Iterator and Generator\n",
    "terator is an object which allows a programmer to traverse through all the elements of a collection, regardless of its specific implementation. In Python, an iterator object implements two methods, iter() and next().\n",
    "\n",
    "String, List or Tuple objects can be used to create an Iterator.\n",
    "\n",
    "A generator is a function that produces or yields a sequence of values using yield method.\n",
    "\n",
    "When a generator function is called, it returns a generator object without even beginning execution of the function. When the next() method is called for the first time, the function starts executing until it reaches the yield statement, which returns the yielded value. The yield keeps track i.e. remembers the last execution and the second next() call continues from previous value."
   ]
  },
  {
   "cell_type": "code",
   "execution_count": 29,
   "metadata": {},
   "outputs": [
    {
     "name": "stdout",
     "output_type": "stream",
     "text": [
      "list_of_numbers: [4, 5, 6, 7, 8, 9, 10, 11, 12]\n",
      "4, 5, 6, 7, 8, 9, 10, 11, 12, Iteration is done...\n"
     ]
    }
   ],
   "source": [
    "list_of_numbers = list(range(4,13))\n",
    "print(\"list_of_numbers: \" + str(list_of_numbers))\n",
    "iter_items = iter(list_of_numbers)\n",
    "#Either for loop or while loop.\n",
    "#for x in iter_items:\n",
    "    #print(x, end=\" \")\n",
    "while True:\n",
    "    try:\n",
    "        print (next(iter_items), end=\", \")\n",
    "    except StopIteration:\n",
    "        print (\"Iteration is done...\")\n",
    "        break"
   ]
  },
  {
   "cell_type": "code",
   "execution_count": 30,
   "metadata": {},
   "outputs": [
    {
     "name": "stdout",
     "output_type": "stream",
     "text": [
      "0, 1, 1, 2, 3, 5, Iteration is done...\n"
     ]
    }
   ],
   "source": [
    "def fibonacci(n): #generator function\n",
    "    a, b, counter = 0, 1, 0\n",
    "    while True:\n",
    "        if (counter > n): \n",
    "            return\n",
    "        yield a\n",
    "        a, b = b, a + b\n",
    "        counter += 1\n",
    "        \n",
    "f = fibonacci(5) #f is iterator object.\n",
    "while True:\n",
    "    try:\n",
    "        print (next(f), end=\", \")\n",
    "    except StopIteration:\n",
    "        print(\"Iteration is done...\")\n",
    "        break"
   ]
  },
  {
   "cell_type": "markdown",
   "metadata": {},
   "source": [
    "## Python 3 - Numbers\n",
    "`int, float, complex (a+jb)`. "
   ]
  },
  {
   "cell_type": "markdown",
   "metadata": {},
   "source": [
    "### Mathematical Functions\n",
    "`Import math` where ever required.\n",
    "\n",
    "function | Description\n",
    "---------| -----------\n",
    "abs(x) | The absolute value of x: the (positive) distance between x and zero.\n",
    "ceil(x) | The ceiling of x: the smallest integer not less than x.\n",
    "cmp(x, y) | -1 if x < y, 0 if x == y, or 1 if x > y. Deprecated in Python 3. Use (x>y)-(x<y).\n",
    "exp(x) | The exponential of x: e^x.\n",
    "fabs(x) | The absolute value of x.\n",
    "floor(x) | The floor of x: the largest integer not greater than x.\n",
    "log(x) | The natural logarithm of x, for x > 0.\n",
    "log10(x) | The base-10 logarithm of x for x > 0.\n",
    "max(x1, x2, x3, x4, x5...) | The largest of its arguments: the value closest to positive infinity.\n",
    "min(x1, x2, x3, x4, x5...) | The smallest of its arguments: the value closest to negative infinity.\n",
    "(math.modf) modf(x) | The fractional and integer parts of x in a two-item tuple. Both parts have the same sign as x. The integer part is returned as a float.\n",
    "pow(x, y) | x\\*\\*y\n",
    "round(x, n=0) | x rounded to n digits from the decimal point. Python rounds away from zero as a tie-breaker: round(0.5) is 1.0 and round(-0.5) is -1.0.\n",
    "sqrt(x) | The square root of x for x > 0."
   ]
  },
  {
   "cell_type": "code",
   "execution_count": 48,
   "metadata": {},
   "outputs": [
    {
     "data": {
      "text/plain": [
       "1.6094379124341003"
      ]
     },
     "execution_count": 48,
     "metadata": {},
     "output_type": "execute_result"
    }
   ],
   "source": [
    "math.log(5)"
   ]
  },
  {
   "cell_type": "markdown",
   "metadata": {},
   "source": [
    "### Random Number Functions\n",
    "function | description\n",
    "--------- | ----------\n",
    "choice(seq) | A random item from a list, tuple, or string.\n",
    "randrange ([start,] stop [,step]) | A randomly selected element from range(start, stop, step).\n",
    "random() | A random float r, such that 0 is less than or equal to r and r is less than 1\n",
    "seed([x]) | Sets the integer starting value used in generating random numbers. Call this function before calling any other random module function. Returns None.\n",
    "shuffle(lst) | Randomizes the items of a list in place. Returns None.\n",
    "uniform(x, y) | A random float r, such that x is less than or equal to r and r is less than y."
   ]
  },
  {
   "cell_type": "code",
   "execution_count": 90,
   "metadata": {},
   "outputs": [
    {
     "name": "stdout",
     "output_type": "stream",
     "text": [
      "0.5842517929701989\n",
      "0.9042017708477751\n",
      "0.6819821366349667\n",
      "0.928945601200017\n",
      "0.8564005663967557\n",
      "0.9909896448688151\n",
      "0.6712735421625182\n",
      "0.16309962197106975\n"
     ]
    }
   ],
   "source": [
    "import random\n",
    "#random.seed(3)\n",
    "for i in [1, 2, 3, 4, 5, 6, 7, 8]:\n",
    "    print(random.random())"
   ]
  },
  {
   "cell_type": "markdown",
   "metadata": {},
   "source": [
    "### Trigonometric Functions\n",
    "https://www.tutorialspoint.com/python3/python_numbers.htm to check trignometric functions on `asin, acos, atan, sin, cos etc`.\n",
    "\n",
    "* `degrees(x)` --> x from radians to degrees\n",
    "* `radians(x)` --> x from degrees to radians"
   ]
  },
  {
   "cell_type": "code",
   "execution_count": 92,
   "metadata": {},
   "outputs": [
    {
     "data": {
      "text/plain": [
       "114.59155902616465"
      ]
     },
     "execution_count": 92,
     "metadata": {},
     "output_type": "execute_result"
    }
   ],
   "source": [
    "math.degrees(2)"
   ]
  },
  {
   "cell_type": "markdown",
   "metadata": {},
   "source": [
    "### Mathematical Constants\n",
    "* `math.pi`\n",
    "* `math.e`"
   ]
  },
  {
   "cell_type": "code",
   "execution_count": 94,
   "metadata": {},
   "outputs": [
    {
     "data": {
      "text/plain": [
       "2.718281828459045"
      ]
     },
     "execution_count": 94,
     "metadata": {},
     "output_type": "execute_result"
    }
   ],
   "source": [
    "math.e"
   ]
  },
  {
   "cell_type": "markdown",
   "metadata": {},
   "source": [
    "## Python 3 - Strings\n",
    "### Escape Characters\n",
    "* `\\a` ---> Bell or alert\n",
    "* `\\b` ---> Backspace\n",
    "* `\\cx or \\Cx` ---> Control-x\n",
    "* `\\e` ---> Escape\n",
    "* `\\f` ---> Formfeed\n",
    "* `\\n` ---> Newline\n",
    "* `\\r` ---> Return\n",
    "* `\\s` ---> Space\n",
    "* `\\t` ---> Tab\n",
    "* `\\v` ---> Vertical Tab"
   ]
  },
  {
   "cell_type": "code",
   "execution_count": 1,
   "metadata": {},
   "outputs": [
    {
     "name": "stdout",
     "output_type": "stream",
     "text": [
      "This is a example \n",
      " \t for escape characters\n"
     ]
    }
   ],
   "source": [
    "print(\"This is a example \\n \\t for escape characters\")"
   ]
  },
  {
   "cell_type": "markdown",
   "metadata": {},
   "source": [
    "### Raw Strings"
   ]
  },
  {
   "cell_type": "code",
   "execution_count": 5,
   "metadata": {},
   "outputs": [
    {
     "name": "stdout",
     "output_type": "stream",
     "text": [
      "\\n\\t\\s all these backslashes are not processed, ie not used as escape characters\n"
     ]
    }
   ],
   "source": [
    "print(r'\\n\\t\\s all these backslashes are not processed, ie not used as escape characters')"
   ]
  },
  {
   "cell_type": "markdown",
   "metadata": {},
   "source": [
    "### String Formatting Operator\n",
    "* `%c` ---> character\n",
    "* `%s` ---> string\n",
    "* `%i` ---> signed decimal integer\n",
    "* `%d` ---> signed decimal integer\n",
    "* `%u` ---> unsigned decimal integer\n",
    "* `%o` ---> octal integer\n",
    "* `%x` ---> hexadecimal integer (lower case)\n",
    "* `%X` ---> hexadecimal integer (upper case)\n",
    "* `%e` ---> exponential notation (lower case e)\n",
    "* `%E` ---> exponential notation (upper case E)\n",
    "* `%f` ---> floating point\n",
    "* `%g` ---> the shorter of %f and %e\n",
    "* `%G` ---> the shorter of %f and %E"
   ]
  },
  {
   "cell_type": "code",
   "execution_count": 4,
   "metadata": {},
   "outputs": [
    {
     "name": "stdout",
     "output_type": "stream",
     "text": [
      "My name is Zara and weight is 21 kg!\n",
      "2A6\n"
     ]
    }
   ],
   "source": [
    "print (\"My name is %s and weight is %d kg!\" % ('Zara', 21)) \n",
    "print (\"%X\" % (678))"
   ]
  },
  {
   "cell_type": "markdown",
   "metadata": {},
   "source": [
    "**`ALL THE STRINGS IN PYTHON 3 IS UNICODE BY DEFAULT`**"
   ]
  },
  {
   "cell_type": "markdown",
   "metadata": {},
   "source": [
    "### Butilt in String Methods\n",
    "* `capitalize()` ---> Capitalizes the first letter of the string\n",
    "* `center(width, fillchar)` ---> Returns a string padded with fillchar with the original string centered to a total of width columns.\n",
    "* `count(str, beg=0, end=len(string))` ---> Counts how many times str occurs in string or in a substring of string if starting index beg and ending index end are given.\n",
    "* `decode(encoding='UTF-8',errors='strict')` ---> Decodes the string using the codec registered for encoding. encoding defaults to the default string encoding.\n",
    "* `encode(encoding='UTF-8',errors='strict')` ---> Returns encoded string version of string; on error, default is to raise a ValueError unless errors is given with 'ignore' or 'replace'.\n",
    "* `endswith(suffix, beg=0, end=len(string))` ---> Determines if string or a substring of string (if starting index beg and ending index end are given) ends with suffix; returns true if so and false otherwise.\n",
    "* `expandtabs(tabsize = 8)` ---> Expands tabs in string to multiple spaces; defaults to 8 spaces per tab if tabsize not provided.\n",
    "* `find(str, beg = 0 end = len(string))` ---> Determine if str occurs in string or in a substring of string if starting index beg and ending index end are given returns index if found and -1 otherwise.\n",
    "* `index(str, beg = 0, end = len(string))` ---> Same as find(), but raises an exception if str not found.\n",
    "* `isalnum()` ---> Returns true if string has at least 1 character and all characters are alphanumeric and false otherwise.\n",
    "* `isalpha()` ---> Returns true if string has at least 1 character and all characters are alphabetic and false otherwise.\n",
    "* `isdigit()` ---> Returns true if string contains only digits and false otherwise.\n",
    "* `islower()` ---> Returns true if string has at least 1 cased character and all cased characters are in lowercase and false otherwise.\n",
    "* `isnumeric()` ---> Returns true if a unicode string contains only numeric characters and false otherwise.\n",
    "* `isspace()` ---> Returns true if string contains only whitespace characters and false otherwise.\n",
    "* `istitle()` ---> Returns true if string is properly \"titlecased\" and false otherwise.\n",
    "* `isupper()` ---> Returns true if string has at least one cased character and all cased characters are in uppercase and false otherwise.\n",
    "* `join(seq)` ---> Merges (concatenates) the string representations of elements in sequence seq into a string, with separator string.\n",
    "* `len(string)` ---> Returns the length of the string\n",
    "* `ljust(width[, fillchar])` ---> Returns a space-padded string with the original string left-justified to a total of width columns.\n",
    "* `lower()` ---> Converts all uppercase letters in string to lowercase.\n",
    "* `lstrip()` ---> Removes all leading whitespace in string.\n",
    "* `maketrans()` ---> Returns a translation table to be used in translate function.\n",
    "* `max(str)` ---> Returns the max alphabetical character from the string str.\n",
    "* `min(str)` ---> Returns the min alphabetical character from the string str.\n",
    "* `replace(old, new [, max])` ---> Replaces all occurrences of old in string with new or at most max occurrences if max given.\n",
    "* `rfind(str, beg = 0,end = len(string))` ---> Same as find(), but search backwards in string.\n",
    "* `rindex( str, beg = 0, end = len(string))` ---> Same as index(), but search backwards in string.\n",
    "* `rjust(width,[, fillchar])` ---> Returns a space-padded string with the original string right-justified to a total of width columns.\n",
    "* `rstrip()` ---> Removes all trailing whitespace of string.\n",
    "* `split(str=\"\", num=string.count(str))` ---> Splits string according to delimiter str (space if not provided) and returns list of substrings; split into at most num substrings if given.\n",
    "* `splitlines( num=string.count('\\n'))` ---> Splits string at all (or num) NEWLINEs and returns a list of each line with NEWLINEs removed.\n",
    "* `startswith(str, beg=0,end=len(string))` ---> Determines if string or a substring of string (if starting index beg and ending index end are given) starts with substring str; returns true if so and false otherwise.\n",
    "* `strip([chars])` ---> Performs both lstrip() and rstrip() on string\n",
    "* `swapcase()` ---> Inverts case for all letters in string.\n",
    "* `title()` ---> Returns \"titlecased\" version of string, that is, all words begin with uppercase and the rest are lowercase.\n",
    "* `translate(table, deletechars=\"\")` ---> Translates string according to translation table str(256 chars), removing those in the del string.\n",
    "* `upper()` ---> Converts lowercase letters in string to uppercase.\n",
    "* `zfill (width)` ---> Returns original string leftpadded with zeros to a total of width characters; intended for numbers, zfill() retains any sign given (less one zero).\n",
    "* `isdecimal()` ---> Returns true if a unicode string contains only decimal characters and false otherwise."
   ]
  },
  {
   "cell_type": "code",
   "execution_count": 30,
   "metadata": {},
   "outputs": [
    {
     "data": {
      "text/plain": [
       "'+000000000shammy'"
      ]
     },
     "execution_count": 30,
     "metadata": {},
     "output_type": "execute_result"
    }
   ],
   "source": [
    "\"+shammy\".zfill(16)"
   ]
  },
  {
   "cell_type": "markdown",
   "metadata": {},
   "source": [
    "## Python 3 - Lists\n",
    "The most basic data structure in Python is the sequence. Each element of a sequence is assigned a number - its position or index. The first index is zero, the second index is one, and so forth."
   ]
  },
  {
   "cell_type": "raw",
   "metadata": {},
   "source": [
    "list = ['physics', 'chemistry', 1997, 2000]\n",
    "print (list)\n",
    "\n",
    "del list[2]\n",
    "print (\"After deleting value at index 2 : \", list)"
   ]
  },
  {
   "cell_type": "markdown",
   "metadata": {},
   "source": [
    "* `len(list_1)` ---> Gives total length of the list.\n",
    "* `max(list_1)` ---> Returns item from the list with max value.\n",
    "* `min(list_1)` ---> Returns item from the list with min value.\n",
    "* `list(seq)` ---> Converts a tuple into list.\n",
    "* `list_1.append(obj)` ---> Appends object obj to list.\n",
    "* `list_1.count(obj)` ---> Returns count of how many times obj occurs in list.\n",
    "* `list_1.extend(seq)` ---> Appends the contents of seq to list.\n",
    "* `list_1.index(obj)` ---> Returns the lowest index in list that obj appears.\n",
    "* `list_1.insert(index, obj)` ---> Inserts object obj into list at offset index\n",
    "* `list_1.pop(obj = list_1[-1])` ---> Removes and returns last object or obj from list\n",
    "* `list_1.remove(obj)` ---> Removes object obj from list\n",
    "* `list_1.reverse()` ---> Reverses objects of list in place\n",
    "* `list_1.sort([func])` ---> Sorts objects of list, use compare func if given"
   ]
  },
  {
   "cell_type": "code",
   "execution_count": 41,
   "metadata": {},
   "outputs": [
    {
     "name": "stdout",
     "output_type": "stream",
     "text": [
      "[(3, 'shanmmu', 98, True), ('thanuja', True, 9088), (2, 5)]\n"
     ]
    }
   ],
   "source": [
    "list_1 = [(2, 5), (3, \"shanmmu\", 98, True), (\"thanuja\", True, 9088)]\n",
    "list_1.sort(key=lambda x:len(x), reverse=True)\n",
    "print(list_1)"
   ]
  },
  {
   "cell_type": "code",
   "execution_count": 43,
   "metadata": {},
   "outputs": [
    {
     "data": {
      "text/plain": [
       "8734"
      ]
     },
     "execution_count": 43,
     "metadata": {},
     "output_type": "execute_result"
    }
   ],
   "source": [
    "list_2 = [324, 8734, 897, 999]\n",
    "max(list_2)"
   ]
  },
  {
   "cell_type": "markdown",
   "metadata": {},
   "source": [
    "## Python 3 - Tuples\n",
    "A tuple is a sequence of immutable Python objects.\n",
    "\n",
    "`tuple_1 = (34234, \"shammy\", True, \"shiny\", \"Thanuja\")`\n",
    "\n",
    "`tuple_2 = (\"This tuple has only one item, hence it requires comma after that one item\",)`\n",
    "\n",
    "`tuple_3 = (\"Thanuja\")`\n",
    "\n",
    "Here tuple_3 is not tuple, but a string.\n",
    "\n",
    "* `cmp(tuple1, tuple2)` ---> Compares elements of both tuples.\n",
    "* `len(tuple)` ---> Gives the total length of the tuple.\n",
    "* `max(tuple)` ---> Returns item from the tuple with max value.\n",
    "* `min(tuple)` ---> Returns item from the tuple with min value.\n",
    "* `tuple(seq)` ---> Converts a list into tuple."
   ]
  },
  {
   "cell_type": "code",
   "execution_count": 47,
   "metadata": {},
   "outputs": [
    {
     "name": "stdout",
     "output_type": "stream",
     "text": [
      "('Thanuja',)\n"
     ]
    }
   ],
   "source": [
    "tuple_1 = (\"Thanuja\",)\n",
    "print(tuple_1)"
   ]
  },
  {
   "cell_type": "markdown",
   "metadata": {},
   "source": [
    "## Python 3 - Dictionary\n",
    "Each key is separated from its value by a colon (:), the items are separated by commas, and the whole thing is enclosed in curly braces. An empty dictionary without any items is written with just two curly braces, like this: {}.\n",
    "\n",
    "Keys are unique within a dictionary while values may not be. The values of a dictionary can be of any type, but the keys must be of an immutable data type such as strings, numbers, or tuples."
   ]
  },
  {
   "cell_type": "raw",
   "metadata": {},
   "source": [
    "dict_1 = {'Name': 'Zara', 'Age': 7, 'Class': 'First'}\n",
    "dict_1['Shammy'] = \"It is me\"\n",
    "del dict_1['Name']"
   ]
  },
  {
   "cell_type": "markdown",
   "metadata": {},
   "source": [
    "**`More than one entry per key is not allowed`**\n",
    "\n",
    "**`Keys must be immutable`**"
   ]
  },
  {
   "cell_type": "markdown",
   "metadata": {},
   "source": [
    "* `len(dict_1)` ---> Gives the total length of the dictionary. This would be equal to the number of items in the dictionary.\n",
    "* `str(dict_1)` ---> Gives the total length of the dictionary. This would be equal to the number of items in the dictionary.\n",
    "* `type(variable)` ---> Returns the type of the passed variable. If passed variable is dictionary, then it would return a dictionary type.\n",
    "* `dict_1.clear()` ---> Removes all elements of dictionary dict\n",
    "* `dict_1.copy()` ---> Returns a shallow copy of dictionary dict\n",
    "* `dict_1.fromkeys(seq[, value]))` ---> Create a new dictionary with keys from seq and values set to value.\n",
    "* `dict_1.get(key, default=None)` ---> For key key, returns value or default if key not in dictionary\n",
    "* `dict_1.has_key(key)` ---> Removed, use the in operation instead.\n",
    "* `dict_1.items()` ---> Returns a list of dict's (key, value) tuple pairs\n",
    "* `dict_1.keys()` ---> Removed, use the in operation instead.\n",
    "* `dict_1.setdefault(key, default = None)` ---> Similar to get(), but will set dict[key] = default if key is not already in dict\n",
    "* `dict_1.update(dict2)` ---> Adds dictionary dict2's key-values pairs to dict\n",
    "* `dict_1.values()` ---> Returns list of dictionary dict's values"
   ]
  },
  {
   "cell_type": "code",
   "execution_count": 49,
   "metadata": {},
   "outputs": [
    {
     "name": "stdout",
     "output_type": "stream",
     "text": [
      "{'Name': 'Zara', 'Age': 7, 'Class': 'First', 'Shammy': 'It is me'}\n"
     ]
    }
   ],
   "source": [
    "dict_1 = {'Name': 'Zara', 'Age': 7, 'Class': 'First'}\n",
    "dict_1['Shammy'] = \"It is me\"\n",
    "print(dict_1)"
   ]
  },
  {
   "cell_type": "markdown",
   "metadata": {},
   "source": [
    "## Python 3 - Date & Time\n",
    "Python's time and calendar modules help track dates and times.\n",
    "\n",
    "20 tick - 1 second\n",
    "\n",
    "Particular instants in time are expressed in seconds since 12:00am, January 1, 1970(epoch). The function time.time() returns the current system time in ticks since 12:00am, January 1, 1970(epoch). Date arithmetic is easy to do with ticks. However, dates before the epoch cannot be represented in this form. Dates in the far future also cannot be represented this way - the cutoff point is sometime in 2038 for UNIX and Windows."
   ]
  },
  {
   "cell_type": "code",
   "execution_count": 7,
   "metadata": {},
   "outputs": [
    {
     "name": "stdout",
     "output_type": "stream",
     "text": [
      "1568185184.983774\n",
      "Local current time :time.struct_time(tm_year=2019, tm_mon=9, tm_mday=11, tm_hour=12, tm_min=29, tm_sec=44, tm_wday=2, tm_yday=254, tm_isdst=0)\n",
      "Wed Sep 11 12:29:44 2019\n"
     ]
    }
   ],
   "source": [
    "import time;\n",
    "\n",
    "localtime = time.localtime(time.time())\n",
    "print(time.time())\n",
    "print (\"Local current time :\" + str(localtime))\n",
    "localtime = time.asctime(time.localtime(time.time()))\n",
    "print(localtime)"
   ]
  },
  {
   "cell_type": "code",
   "execution_count": 9,
   "metadata": {},
   "outputs": [
    {
     "name": "stdout",
     "output_type": "stream",
     "text": [
      "    January 2019\n",
      "Mo Tu We Th Fr Sa Su\n",
      "    1  2  3  4  5  6\n",
      " 7  8  9 10 11 12 13\n",
      "14 15 16 17 18 19 20\n",
      "21 22 23 24 25 26 27\n",
      "28 29 30 31\n",
      "\n"
     ]
    }
   ],
   "source": [
    "import calendar\n",
    "\n",
    "cal = calendar.month(2019, 1)\n",
    "print (cal)"
   ]
  },
  {
   "cell_type": "markdown",
   "metadata": {},
   "source": [
    "# The Time Module Fucntions\n",
    "* `time.asctime([tupletime])` ---> Accepts a time-tuple and returns a readable 24-character string such as 'Tue Dec 11 18:07:14 2008'.\n",
    "* `time.clock()` ---> Returns the current CPU time as a floating-point number of seconds. To measure computational costs of different approaches, the value of time.clock is more useful than that of time.time().\n",
    "* `time.ctime([secs])` ---> Like time.asctime()\n",
    "* `time.gmtime([secs])` ---> Accepts an instant expressed in seconds since the epoch and returns a time-tuple t with the UTC time. Note : t.tm_isdst is always 0\n",
    "* `time.localtime([secs])` ---> Accepts an instant expressed in seconds since the epoch and returns a time-tuple t with the local time (t.tm_isdst is 0 or 1, depending on whether DST applies to instant secs by local rules).\n",
    "* `time.mktime(tupletime)` ---> Accepts an instant expressed as a time-tuple in local time and returns a floating-point value with the instant expressed in seconds since the epoch.\n",
    "* `time.sleep(secs)` ---> Suspends the calling thread for secs seconds.\n",
    "* `time.strftime(fmt[,tupletime])` ---> Accepts an instant expressed as a time-tuple in local time and returns a string representing the instant as specified by string fmt.\n",
    "* `time.strptime(str,fmt='%a %b %d %H:%M:%S %Y')` ---> Parses str according to format string fmt and returns the instant in time-tuple format.\n",
    "* `time.time( )` ---> Returns the current time instant, a floating-point number of seconds since the epoch.\n",
    "* `time.tzset()` ---> Resets the time conversion rules used by the library routines. The environment variable TZ specifies how this is done.\n",
    "* `time.timezone` ---> Attribute time.timezone is the offset in seconds of the local time zone (without DST) from UTC (>0 in the Americas; <=0 in most of Europe, Asia, Africa).\n",
    "* `time.tzname` ---> Attribute time.tzname is a pair of locale-dependent strings, which are the names of the local time zone without and with DST, respectively."
   ]
  },
  {
   "cell_type": "code",
   "execution_count": 22,
   "metadata": {},
   "outputs": [
    {
     "data": {
      "text/plain": [
       "'Wed Sep 11 13:05:57 2019'"
      ]
     },
     "execution_count": 22,
     "metadata": {},
     "output_type": "execute_result"
    }
   ],
   "source": [
    "time.ctime()"
   ]
  },
  {
   "cell_type": "markdown",
   "metadata": {},
   "source": [
    "# The Calendar Module\n",
    "By default, calendar takes Monday as the first day of the week and Sunday as the last one. To change this, call calendar.setfirstweekday() function.\n",
    "* `calendar.calendar(year,w=2,l=1,c=6)` ---> \n",
    "* `calendar.firstweekday( )` ---> \n",
    "* `calendar.isleap(year)` ---> \n",
    "* `calendar.leapdays(y1,y2)` ---> \n",
    "* `calendar.month(year,month,w=2,l=1)` ---> \n",
    "* `calendar.monthcalendar(year,month)` ---> \n",
    "* `calendar.monthrange(year,month)` ---> \n",
    "* `calendar.prcal(year,w=2,l=1,c=6)` ---> \n",
    "* `calendar.prmonth(year,month,w=2,l=1)` ---> \n",
    "* `calendar.setfirstweekday(weekday)` ---> \n",
    "* `calendar.timegm(tupletime)` ---> \n",
    "* `calendar.weekday(year,month,day)` ---> "
   ]
  },
  {
   "cell_type": "code",
   "execution_count": 42,
   "metadata": {},
   "outputs": [
    {
     "name": "stdout",
     "output_type": "stream",
     "text": [
      "[[0, 0, 0, 0, 1, 2, 3], [4, 5, 6, 7, 8, 9, 10], [11, 12, 13, 14, 15, 16, 17], [18, 19, 20, 21, 22, 23, 24], [25, 26, 27, 28, 0, 0, 0]]\n",
      "3\n"
     ]
    }
   ],
   "source": [
    "import calendar\n",
    "print (calendar.monthcalendar(2019 , 2))\n",
    "print (calendar.leapdays(2000,2012))"
   ]
  },
  {
   "cell_type": "markdown",
   "metadata": {},
   "source": [
    "## Python - Functions\n",
    "Examples:"
   ]
  },
  {
   "cell_type": "raw",
   "metadata": {},
   "source": [
    "def printme( str ):\n",
    "   \"This prints a passed string into this function\"\n",
    "   print str\n",
    "   return;\n",
    "   \n",
    "printme(\"shammy\")\n",
    "\n",
    "def functionname([formal_args,] *var_args_tuple, **kwargs_dictionary ):\n",
    "   \"function_docstring\"\n",
    "   function_suite\n",
    "   return [expression]"
   ]
  },
  {
   "cell_type": "markdown",
   "metadata": {},
   "source": [
    "### Anonymous Functions.\n",
    "`lambda [arg1 [,arg2,.....argn]]:expression`\n",
    "These functions are called anonymous because they are not declared in the standard manner by using the def keyword. You can use the lambda keyword to create small anonymous functions.\n",
    "* Lambda forms can take any number of arguments but return just one value in the form of an expression. They cannot contain commands or multiple expressions.\n",
    "* An anonymous function cannot be a direct call to print because lambda requires an expression\n",
    "* Lambda functions have their own local namespace and cannot access variables other than those in their parameter list and those in the global namespace.\n",
    "* Although it appears that lambda's are a one-line version of a function, they are not equivalent to inline statements in C or C++, whose purpose is by passing function stack allocation during invocation for performance reasons."
   ]
  },
  {
   "cell_type": "code",
   "execution_count": 44,
   "metadata": {},
   "outputs": [
    {
     "data": {
      "text/plain": [
       "11"
      ]
     },
     "execution_count": 44,
     "metadata": {},
     "output_type": "execute_result"
    }
   ],
   "source": [
    "sum_1 = lambda val_1, val_2 : val_1 + val_2\n",
    "sum_1(3, 8)"
   ]
  },
  {
   "cell_type": "markdown",
   "metadata": {},
   "source": [
    "## Python - Modules\n",
    "A module allows you to logically organize your Python code. Grouping related code into a module makes the code easier to understand and use. A module is a Python object with arbitrarily named attributes that you can bind and reference.\n",
    "\n",
    "Simply, a module is a file consisting of Python code. A module can define functions, classes and variables. A module can also include runnable code.\n",
    "\n",
    "### The import Statement\n",
    "You can use any Python source file as a module by executing an import statement in some other Python source file.\n",
    "\n",
    "`import module1[, module2[,... moduleN]`\n",
    "\n",
    "`from modname import name1[, name2[, ... nameN]]`\n",
    "\n",
    "`from modname import *`\n",
    "\n",
    "### Locating Modules\n",
    "When you import a module, the Python interpreter searches for the module in the following sequences −\n",
    "\n",
    "The current directory.\n",
    "\n",
    "If the module isn't found, Python then searches each directory in the shell variable PYTHONPATH.\n",
    "\n",
    "If all else fails, Python checks the default path. On UNIX, this default path is normally /usr/local/lib/python/.\n",
    "\n",
    "The module search path is stored in the system module sys as the sys.path variable. The sys.path variable contains the current directory, PYTHONPATH, and the installation-dependent default.\n",
    "\n",
    "### The PYTHONPATH Variable\n",
    "The PYTHONPATH is an environment variable, consisting of a list of directories. The syntax of PYTHONPATH is the same as that of the shell variable PATH\n",
    "\n",
    "`set PYTHONPATH = /usr/local/lib/python`\n",
    "\n",
    "### Namespaces and Scoping\n",
    "\n",
    "Variables are names (identifiers) that map to objects. A namespace is a dictionary of variable names (keys) and their corresponding objects (values).\n",
    "\n",
    "A Python statement can access variables in a local namespace and in the global namespace. If a local and a global variable have the same name, the local variable shadows the global variable.\n",
    "\n",
    "Each function has its own local namespace. Class methods follow the same scoping rule as ordinary functions.\n",
    "\n",
    "Python makes educated guesses on whether variables are local or global. It assumes that any variable assigned a value in a function is local.\n",
    "\n",
    "Therefore, in order to assign a value to a global variable within a function, you must first use the global statement.\n",
    "\n",
    "The statement global VarName tells Python that VarName is a global variable. Python stops searching the local namespace for the variable.\n",
    "\n",
    "For example, we define a variable Money in the global namespace. Within the function Money, we assign Money a value, therefore Python assumes Money as a local variable. However, we accessed the value of the local variable Money before setting it, so an UnboundLocalError is the result. Uncommenting the global statement fixes the problem."
   ]
  },
  {
   "cell_type": "code",
   "execution_count": 51,
   "metadata": {},
   "outputs": [
    {
     "name": "stdout",
     "output_type": "stream",
     "text": [
      "201\n"
     ]
    }
   ],
   "source": [
    "money_1 = 200\n",
    "def some_function():\n",
    "    global money_1\n",
    "    money_1 = money_1 + 1\n",
    "    return money_1\n",
    "    \n",
    "some_var = some_function()\n",
    "print(some_var)"
   ]
  },
  {
   "cell_type": "markdown",
   "metadata": {},
   "source": [
    "### The dir( ) Function\n",
    "The dir() built-in function returns a sorted list of strings containing the names defined by a module.\n",
    "\n",
    "The list contains the names of all the modules, variables and functions that are defined in a module"
   ]
  },
  {
   "cell_type": "code",
   "execution_count": 52,
   "metadata": {},
   "outputs": [
    {
     "name": "stdout",
     "output_type": "stream",
     "text": [
      "['__doc__', '__file__', '__loader__', '__name__', '__package__', '__spec__', 'acos', 'acosh', 'asin', 'asinh', 'atan', 'atan2', 'atanh', 'ceil', 'copysign', 'cos', 'cosh', 'degrees', 'e', 'erf', 'erfc', 'exp', 'expm1', 'fabs', 'factorial', 'floor', 'fmod', 'frexp', 'fsum', 'gamma', 'gcd', 'hypot', 'inf', 'isclose', 'isfinite', 'isinf', 'isnan', 'ldexp', 'lgamma', 'log', 'log10', 'log1p', 'log2', 'modf', 'nan', 'pi', 'pow', 'radians', 'sin', 'sinh', 'sqrt', 'tan', 'tanh', 'tau', 'trunc']\n"
     ]
    }
   ],
   "source": [
    "import math\n",
    "\n",
    "content = dir(math)\n",
    "print (content)"
   ]
  },
  {
   "cell_type": "markdown",
   "metadata": {},
   "source": [
    "### The globals() and locals() Functions\n",
    "* The globals() and locals() functions can be used to return the names in the global and local namespaces depending on the location from where they are called.\n",
    "* If locals() is called from within a function, it will return all the names that can be accessed locally from that function.\n",
    "* If globals() is called from within a function, it will return all the names that can be accessed globally from that function.\n",
    "* The return type of both these functions is dictionary. Therefore, names can be extracted using the keys() function.\n",
    "\n",
    "### The reload() Function\n",
    "* When the module is imported into a script, the code in the top-level portion of a module is executed only once.\n",
    "* Therefore, if you want to reexecute the top-level code in a module, you can use the reload() function. The reload() function imports a previously imported module again.\n",
    "* `reload(module_name)`\n",
    "* `reload(math)`\n",
    "\n",
    "### Packages in Python\n",
    "A package is a hierarchical file directory structure that defines a single Python application environment that consists of modules and subpackages and sub-subpackages, and so on."
   ]
  },
  {
   "cell_type": "markdown",
   "metadata": {},
   "source": [
    "## Python 3 - Files I/O\n",
    "### print statement\n",
    "You can pass zero or more arguments, the output will be a string conatenated."
   ]
  },
  {
   "cell_type": "code",
   "execution_count": 4,
   "metadata": {},
   "outputs": [
    {
     "name": "stdout",
     "output_type": "stream",
     "text": [
      "Shammy_____Shiny_____Thanuja_____Sarma_____Sarada*"
     ]
    }
   ],
   "source": [
    "print(\"Shammy\", \"Shiny\", \"Thanuja\", \"Sarma\", \"Sarada\", sep=\"_____\", end=\"*\")"
   ]
  },
  {
   "cell_type": "markdown",
   "metadata": {},
   "source": [
    "### input statement\n",
    "Reads any input inform of string. whether or not enclosed by \"\", ''."
   ]
  },
  {
   "cell_type": "code",
   "execution_count": 7,
   "metadata": {},
   "outputs": [
    {
     "name": "stdout",
     "output_type": "stream",
     "text": [
      "Type something: 97980\"98098\"\n",
      "<class 'str'>\n",
      "97980\"98098\"\n"
     ]
    }
   ],
   "source": [
    "some_var = input(\"Type something: \")\n",
    "print(type(some_var))\n",
    "print(some_var)"
   ]
  },
  {
   "cell_type": "markdown",
   "metadata": {},
   "source": [
    "### Opening and Closing Files\n",
    "#### The open Function\n",
    "`file object = open(file_name [, access_mode][, buffering])`\n",
    "\n",
    "**file_name** − The file_name argument is a string value that contains the name of the file that you want to access.\n",
    "\n",
    "**access_mode** − The access_mode determines the mode in which the file has to be opened, i.e., read, write, append, etc. A complete list of possible values is given below in the table. This is an optional parameter and the default file access mode is read (r).\n",
    "\n",
    "**buffering** − If the buffering value is set to 0, no buffering takes place. If the buffering value is 1, line buffering is performed while accessing a file. If you specify the buffering value as an integer greater than 1, then buffering action is performed with the indicated buffer size. If negative, the buffer size is the system default(default behavior)."
   ]
  },
  {
   "cell_type": "markdown",
   "metadata": {},
   "source": [
    "mode | pointer_position | overwrites_file | replace_data | appends | creates_new_file_if_not_available | reads_data | writes_data | binary | description\n",
    "-----|------------------|-----------------|--------------|---------|-----------------------------------|-------|------------|--------|------------\n",
    "r | beginning | No | No | No | No | Yes | No | No |\n",
    "rb | beginning | No | No | No | No | Yes | No | Yes |\n",
    "r+ | beginning | No | Yes | No | No | Yes | Yes | No |\n",
    "rb+ | beginning | No | Yes | No | No | Yes | Yes | Yes |\n",
    "w | beginning | Yes | No | No | Yes | No | Yes | No |\n",
    "wb | beginning | Yes | No | No | Yes | No | Yes | Yes |\n",
    "w+ | beginning | Yes | No | No | Yes | Yes | Yes | No |\n",
    "wb+ | beginning | Yes | No | No | Yes | Yes | Yes | Yes |\n",
    "a | end | No | No | Yes | Yes | No | Yes | No |\n",
    "ab | end | No | No | Yes | Yes | No | Yes | Yes |\n",
    "a+ | end | No | No | Yes | Yes | Yes | Yes | No |\n",
    "ab+ | end | No | No | Yes | Yes | Yes | Yes | Yes |"
   ]
  },
  {
   "cell_type": "code",
   "execution_count": 19,
   "metadata": {},
   "outputs": [],
   "source": [
    "file_object = open(\"/Users/apple/Desktop/go_green.txt\", \"a\")"
   ]
  },
  {
   "cell_type": "code",
   "execution_count": 20,
   "metadata": {},
   "outputs": [
    {
     "data": {
      "text/plain": [
       "6"
      ]
     },
     "execution_count": 20,
     "metadata": {},
     "output_type": "execute_result"
    }
   ],
   "source": [
    "file_object.write(\"shammy\")"
   ]
  },
  {
   "cell_type": "code",
   "execution_count": 21,
   "metadata": {},
   "outputs": [],
   "source": [
    "file_object.close()"
   ]
  },
  {
   "cell_type": "markdown",
   "metadata": {},
   "source": [
    "#### File Attributes\n",
    "* `file.closed` ---> Returns true if file is closed, false otherwise.\n",
    "* `file.mode` ---> Returns access mode with which file was opened.\n",
    "* `file.name` ---> Returns name of the file.\n",
    "\n",
    "### The close() Method\n",
    "The close() method of a file object flushes any unwritten information and closes the file object, after which no more writing can be done.\n",
    "\n",
    "Python automatically closes a file when the reference object of a file is reassigned to another file. It is a good practice to use the close() method to close a file.\n",
    "\n",
    "`fileObject.close()`\n",
    "### Reading and Writing Files\n",
    "#### The write() Method\n",
    "The write() method writes any string to an open file. It is important to note that Python strings can have binary data and not just text.\n",
    "\n",
    "The write() method does not add a newline character ('\\n') to the end of the string\n",
    "`fileObject.write(string)`"
   ]
  },
  {
   "cell_type": "code",
   "execution_count": 25,
   "metadata": {},
   "outputs": [],
   "source": [
    "file_object = open(\"/Users/apple/Desktop/go_green.txt\", \"r+\")\n",
    "file_object.write(\"Shiny\")\n",
    "file_object.close()"
   ]
  },
  {
   "cell_type": "markdown",
   "metadata": {},
   "source": [
    "#### The read() Method\n",
    "The read() method reads a string from an open file. It is important to note that Python strings can have binary data. apart from text data.\n",
    "\n",
    "`fileObject.read([count])`\n",
    "\n",
    "Here, passed parameter is the number of bytes to be read from the opened file. This method starts reading from the beginning of the file and if count is missing, then it tries to read as much as possible, maybe until the end of file."
   ]
  },
  {
   "cell_type": "code",
   "execution_count": 26,
   "metadata": {},
   "outputs": [
    {
     "name": "stdout",
     "output_type": "stream",
     "text": [
      "Shinyysham\n"
     ]
    }
   ],
   "source": [
    "file_object = open(\"/Users/apple/Desktop/go_green.txt\", \"r+\")\n",
    "file_data = file_object.read(10)\n",
    "print(file_data)\n",
    "file_object.close()"
   ]
  },
  {
   "cell_type": "markdown",
   "metadata": {},
   "source": [
    "### File Positions\n",
    "* `tell()` ---> tells you the current position within the file\n",
    "* `seek(offset[, from])` ---> changes the current file position, The offset argument indicates the number of bytes to be moved. The from argument specifies the reference position from where the bytes are to be moved. If from is set to 0, the beginning of the file is used as the reference position. If it is set to 1, the current position is used as the reference position. If it is set to 2 then the end of the file would be taken as the reference position.\n",
    "\n",
    "### Renaming and Deleting Files\n",
    "* `import os as os`\n",
    "* `os.rename(current_file_name, new_file_name)`\n",
    "* `os.remove(file_name)`\n",
    "\n",
    "### Directories in Python\n",
    "* `os.mkdir(\"newdir\")`\n",
    "* `os.chdir(\"newdir\")`\n",
    "* `os.getcwd()`\n",
    "* `os.rmdir('dirname')`"
   ]
  },
  {
   "cell_type": "markdown",
   "metadata": {},
   "source": [
    "## Python 3 - File Methods\n",
    "* `file.open()` ---> Opens file to perform other operations listed below.\n",
    "* `file.close()` ---> Close the file. A closed file cannot be read or written any more.\n",
    "* `file.flush()` ---> Flush the internal buffer, like stdio's fflush. This may be a no-op on some file-like objects.\n",
    "* `file.fileno()` ---> Returns the integer file descriptor that is used by the underlying implementation to request I/O operations from the operating system.\n",
    "* `file.isatty()` ---> Returns True if the file is connected to a tty(-like) device, else False.\n",
    "* `next(file)` ---> Returns the next line from the file each time it is being called.\n",
    "* `file.read([size])` ---> Reads at most size bytes from the file (less if the read hits EOF before obtaining size bytes).\n",
    "* `file.readline([size])` ---> Reads one entire line from the file. A trailing newline character is kept in the string.\n",
    "* `file.readlines([sizehint])` ---> Reads until EOF using readline() and return a list containing the lines. If the optional sizehint argument is present, instead of reading up to EOF, whole lines totalling approximately sizehint bytes (possibly after rounding up to an internal buffer size) are read.\n",
    "* `file.seek(offset[, whence])` ---> Sets the file's current position\n",
    "* `file.tell()` ---> Returns the file's current position\n",
    "* `file.truncate([size])` ---> Truncates the file's size. If the optional size argument is present, the file is truncated to (at most) that size.\n",
    "* `file.write(str)` ---> Writes a string to the file. There is no return value.\n",
    "* `file.writelines(sequence)` ---> Writes a sequence of strings to the file. The sequence can be any iterable object producing strings, typically a list of strings."
   ]
  },
  {
   "cell_type": "markdown",
   "metadata": {},
   "source": [
    "## Python 3 - OS File/Directory Methods\n",
    "Update Later https://www.tutorialspoint.com/python3/os_file_methods.htm"
   ]
  },
  {
   "cell_type": "markdown",
   "metadata": {},
   "source": [
    "## Python 3 - Exceptions Handling\n",
    "* `try` -> contains the code with possible exceptions raised.\n",
    "* `except` -> code inside except block executed when an exception is raised (expected exception or unexpected exception)\n",
    "* `else` -> code inside else will be executed, when no exception is raised.\n",
    "* `finally` -> code inside finally will be executed in all cases.\n",
    "* `raise` -> raises exception.\n",
    "\n",
    "please refer https://thepythonguru.com/python-exception-handling/, https://www.tutorialspoint.com/python3/python_exceptions.htm."
   ]
  },
  {
   "cell_type": "code",
   "execution_count": 39,
   "metadata": {},
   "outputs": [
    {
     "name": "stdout",
     "output_type": "stream",
     "text": [
      "exception caught:My_custom_message\n",
      "No matter what, this will be printed\n"
     ]
    }
   ],
   "source": [
    "class My_Own_Custom_Exception_Class(RuntimeError):\n",
    "    def __init__(self, some_arg):\n",
    "        self.some_arg = some_arg\n",
    "\n",
    "try:\n",
    "    raise My_Own_Custom_Exception_Class(\"My_custom_message\")\n",
    "    raise ZeroDivisionError(\"You silly,...\")\n",
    "    pass\n",
    "except ZeroDivisionError as Shammy:\n",
    "    print(\"exception caught:\" + str(Shammy))\n",
    "except My_Own_Custom_Exception_Class as custom_var_for_exception:\n",
    "    print(\"exception caught:\" + str(custom_var_for_exception))\n",
    "except Exception:\n",
    "    print(\"Just Exception\")\n",
    "except:\n",
    "    print(\"Any Exception\")\n",
    "else:\n",
    "    print(\"No Exception\")\n",
    "finally:\n",
    "    print(\"No matter what, this will be printed\")"
   ]
  },
  {
   "cell_type": "markdown",
   "metadata": {},
   "source": [
    "## Python 3 - Object Oriented"
   ]
  },
  {
   "cell_type": "code",
   "execution_count": 91,
   "metadata": {},
   "outputs": [
    {
     "name": "stdout",
     "output_type": "stream",
     "text": [
      "13\n",
      "10\n",
      "1777\n",
      "Check these values\n",
      "13\n",
      "1777\n",
      "test_\n",
      "CustomClassName\n",
      "This is doc_string, ie documentation string\n",
      "This object is being destroyed by Garbage collector\n",
      "This object is being destroyed by Garbage collector\n"
     ]
    }
   ],
   "source": [
    "class CustomClassName:\n",
    "    'This is doc_string, ie documentation string'\n",
    "    class_variable = 10\n",
    "    \n",
    "    def function_definition_for_name(self, name):\n",
    "        self.name = name\n",
    "        \n",
    "    def function_definition_for_age(age):\n",
    "        self.age = age\n",
    "        \n",
    "    def print_class_name(self):\n",
    "        print(self.__class__.__name__)\n",
    "        \n",
    "    def __del__(self):\n",
    "        print(\"This object is being destroyed by Garbage collector\")\n",
    "\n",
    "ref_var_1 = CustomClassName()\n",
    "ref_var_2 = CustomClassName()\n",
    "\n",
    "ref_var_1.function_definition_for_name(name=25)\n",
    "ref_var_1.name\n",
    "\n",
    "ref_var_1.class_variable = ref_var_1.class_variable + 3\n",
    "print(ref_var_1.class_variable)\n",
    "print(ref_var_2.class_variable)\n",
    "CustomClassName.class_variable = 1777\n",
    "print(CustomClassName.class_variable)\n",
    "print(\"Check these values\")\n",
    "print(ref_var_1.class_variable)\n",
    "print(ref_var_2.class_variable)\n",
    "print(\"test_\")\n",
    "ref_var_1.print_class_name()\n",
    "print(CustomClassName.__doc__)\n",
    "ref_var_1_duplicate = ref_var_1\n",
    "del ref_var_1\n",
    "del ref_var_1_duplicate\n",
    "del ref_var_2"
   ]
  },
  {
   "cell_type": "markdown",
   "metadata": {},
   "source": [
    "`Once the values of class variables are changed/modified then those values are not changed by changing the class_variables by calling class`\n",
    "`__del__ function is executed at time of garbage collection. Garbage collection will be triggered if only all the raferences are deleted.`"
   ]
  },
  {
   "cell_type": "markdown",
   "metadata": {},
   "source": [
    "* `getattr`\n",
    "* `setattr`\n",
    "* `hasattr`\n",
    "* `delattr`"
   ]
  },
  {
   "cell_type": "markdown",
   "metadata": {},
   "source": [
    "### Built in class attributes.\n",
    "* `class.__dict__`\n",
    "* `class.__doc__`\n",
    "* `class.__name__`\n",
    "* `class.__module__` --> Module name in which the class is defined. This attribute is \"__main__\" in interactive mode.\n",
    "* `class.__bases__` --> A possibly empty tuple containing the base classes, in the order of their occurrence in the base class list."
   ]
  },
  {
   "cell_type": "markdown",
   "metadata": {},
   "source": [
    "### Class Inheritance\n",
    "* `class SubClassName (ParentClass1[, ParentClass2, ...]):`\n",
    "* `____'Optional class documentation string'`\n",
    "* `____class_suite`\n",
    "\n",
    "When you have inherited the methods from multiple classes, if same method is defined in both the parent classes, the first one precedes over the other in inheritence."
   ]
  },
  {
   "cell_type": "code",
   "execution_count": 98,
   "metadata": {},
   "outputs": [
    {
     "name": "stdout",
     "output_type": "stream",
     "text": [
      "parent one method\n",
      "parent two method\n",
      "common_parents_method from parent two\n"
     ]
    }
   ],
   "source": [
    "class Parent_One:\n",
    "    def parent_one_method(self):\n",
    "        print(\"parent one method\")\n",
    "    def common_parents_method(self):\n",
    "        print(\"common_parents_method from parent one\")\n",
    "\n",
    "class Parent_Two:\n",
    "    def parent_two_method(self):\n",
    "        print(\"parent two method\")\n",
    "    def common_parents_method(self):\n",
    "        print(\"common_parents_method from parent two\")\n",
    "        \n",
    "class Child_From_Parents(Parent_Two, Parent_One):\n",
    "    def child_method(self):\n",
    "        print(\"child method\")\n",
    "        \n",
    "child = Child_From_Parents()\n",
    "child.parent_one_method()\n",
    "child.parent_two_method()\n",
    "child.common_parents_method()"
   ]
  },
  {
   "cell_type": "markdown",
   "metadata": {},
   "source": [
    "* `issubclass(sub, sup)`\n",
    "* `isinstance(obj, Class)`"
   ]
  },
  {
   "cell_type": "markdown",
   "metadata": {},
   "source": [
    "### Base Overloading Methods\n",
    "* `__init__` ---> Class constructor\n",
    "* `__del__` ---> Class Destructor\n",
    "* `__repr__` ---> Evaluatable string representation\n",
    "* `__str__` ---> Printable string representation\n",
    "* `__cmp__` ---> Object comparison"
   ]
  },
  {
   "cell_type": "code",
   "execution_count": 102,
   "metadata": {},
   "outputs": [
    {
     "name": "stdout",
     "output_type": "stream",
     "text": [
      "<__main__.Child_From_Parents object at 0x10cfe4c10>\n",
      "<__main__.Child_From_Parents object at 0x10cfe4c10>\n"
     ]
    }
   ],
   "source": [
    "print(child.__repr__())\n",
    "print(child.__str__())"
   ]
  },
  {
   "cell_type": "markdown",
   "metadata": {},
   "source": [
    "### Overloading Operators\n",
    "https://docs.python.org/3/library/operator.html Please refer to this for function names of operators."
   ]
  },
  {
   "cell_type": "code",
   "execution_count": 103,
   "metadata": {},
   "outputs": [
    {
     "name": "stdout",
     "output_type": "stream",
     "text": [
      "Vector (7, 8)\n"
     ]
    }
   ],
   "source": [
    "class Vector:\n",
    "   def __init__(self, a, b):\n",
    "      self.a = a\n",
    "      self.b = b\n",
    "\n",
    "   def __str__(self):\n",
    "      return 'Vector (%d, %d)' % (self.a, self.b)\n",
    "   \n",
    "   def __add__(self,other):\n",
    "      return Vector(self.a + other.a, self.b + other.b)\n",
    "\n",
    "v1 = Vector(2,10)\n",
    "v2 = Vector(5,-2)\n",
    "print (v1 + v2)"
   ]
  },
  {
   "cell_type": "markdown",
   "metadata": {},
   "source": [
    "### Data Hiding\n",
    "An object's attributes may or may not be visible outside the class definition. You need to name attributes with a double underscore prefix, and those attributes then will not be directly visible to outsiders."
   ]
  },
  {
   "cell_type": "code",
   "execution_count": 107,
   "metadata": {},
   "outputs": [
    {
     "name": "stdout",
     "output_type": "stream",
     "text": [
      "78\n",
      "You cant access the hidden variables directly\n"
     ]
    }
   ],
   "source": [
    "class Shammy_Thanuja:\n",
    "    __some_hidden_variable = 78\n",
    "    def get_hidden_variables(self):\n",
    "        hidden_var = self.__some_hidden_variable\n",
    "        return hidden_var\n",
    "    \n",
    "var_1 = Shammy_Thanuja()\n",
    "print(var_1.get_hidden_variables())\n",
    "try:\n",
    "    print(var_1.__some_hidden_variable)\n",
    "except:\n",
    "    print(\"You cant access the hidden variables directly\")"
   ]
  },
  {
   "cell_type": "markdown",
   "metadata": {},
   "source": [
    "## Python 3 - Regular Expressions\n",
    "A regular expression is a special sequence of characters that helps you match or find other strings or sets of strings, using a specialized syntax held in a pattern\n",
    "There are various characters, which would have special meaning when they are used in regular expression. To avoid any confusion while dealing with regular expressions, we would use Raw Strings as r'expression'.\n",
    "The module re provides full support for Perl-like regular expressions in Python.\n",
    "\n",
    "### Basic Patterns that match single characters\n",
    "\n",
    "* `A, a, X, 9 <, etc` ---> ordinary chanracters that match exactly themselves.\n",
    "* `.` ---> matches any single character except newline '\\n'\n",
    "* `\\w` ---> matches a \"word\" character: a letter or digit or underbar [a-zA-Z0-9_].\n",
    "* `\\W` ---> matches any non-word character.\n",
    "* `\\b` ---> boundary between word and non-word\n",
    "* `\\s` ---> matches a single whitespace character -- space, newline, return, tab\n",
    "* `\\S` ---> matches any non-whitespace character.\n",
    "* `\\t, \\n, \\r` ---> Tab, newline, return.\n",
    "* `\\d` ---> Decimal digit.\n",
    "* `^` ---> matches start of the string\n",
    "* `$` ---> match the end of the string\n",
    "* `\\` ---> inhibit the \"specialness\" of a character.\n",
    "\n",
    "### Compilation flags\n",
    "\n",
    "Compilation flags let you modify some aspects of how regular expressions work. Flags are available in the re module under two names, a long name such as IGNORECASE and a short, one-letter form such as I.\n",
    "\n",
    "* `ASCII, A` ---> Makes several escapes like \\w, \\b, \\s and \\d match only on ASCII characters with the respective property.\n",
    "* `DOTALL, S` ---> Make, match any character, including newlines\n",
    "* `IGNORECASE, I` ---> Do case-insensitive matches\n",
    "* `LOCALE, L` ---> Do a locale-aware match\n",
    "* `MULTILINE, M` ---> Multi-line matching, affecting ^ and $\n",
    "* `VERBOSE, X (for ‘extended’)` ---> Enable verbose REs, which can be organized more cleanly and understandably\n",
    "\n",
    "### The match Function\n",
    "This function attempts to match RE _pattern_ to _string_ with optional _flags_.\n",
    "\n",
    "`re.match(pattern, string, flags = 0)`\n",
    "\n",
    "* `pattern` ---> This is the regular expression to be matched.\n",
    "* `string` ---> This is the string, which would be searched to match the pattern at the beginning of string.\n",
    "* `flags` ---> You can specify different flags using bitwise OR (|). These are modifiers, which are listed in the table below.\n",
    "\n",
    "The re.match function returns a match object on success, None on failure. We usegroup(num) or groups() function of match object to get matched expression.\n",
    "* `group(num = 0)` ---> This method returns entire match (or specific subgroup num)\n",
    "* `groups()` ---> This method returns all matching subgroups in a tuple (empty if there weren't any)"
   ]
  },
  {
   "cell_type": "code",
   "execution_count": 128,
   "metadata": {},
   "outputs": [
    {
     "name": "stdout",
     "output_type": "stream",
     "text": [
      "('Wikipedia is a free ', ' encyclopedia, created and edited by volunteers around the world and hosted by the Wikimedia Foundation.')\n",
      "Wikipedia is a free online encyclopedia, created and edited by volunteers around the world and hosted by the Wikimedia Foundation.\n",
      "<built-in method groupdict of re.Match object at 0x10cfdf270>\n"
     ]
    }
   ],
   "source": [
    "import re \n",
    "\n",
    "string_to_be_matched = \"\"\"Wikipedia is a free online encyclopedia, created and edited by volunteers around the world and hosted by the Wikimedia Foundation.\"\"\"\n",
    "\n",
    "matchObj = re.match( r'(.*)online(.*)', string_to_be_matched, re.M|re.I)\n",
    "\n",
    "if matchObj:\n",
    "    print(matchObj.groups())\n",
    "    print(matchObj.group())\n",
    "    print(str(matchObj.groupdict))\n",
    "else:\n",
    "    print(\"Nothing matched\")"
   ]
  },
  {
   "cell_type": "markdown",
   "metadata": {},
   "source": [
    "### The search Function\n",
    "This function attempts to search RE _pattern_ to _string_ with optional _flags_.\n",
    "\n",
    "`re.search(pattern, string, flags = 0)`\n",
    "\n",
    "* `pattern` ---> This is the regular expression to be searched.\n",
    "* `string` ---> This is the string, which would be searched to match the pattern at the beginning of string.\n",
    "* `flags` ---> You can specify different flags using bitwise OR (|). These are modifiers, which are listed in the table below.\n",
    "\n",
    "The re.search function returns a search object on success, None on failure. We usegroup(num) or groups() function of match object to get matched expression.\n",
    "* `group(num = 0)` ---> This method returns entire search (or specific subgroup num)\n",
    "* `groups()` ---> This method returns all searching subgroups in a tuple (empty if there weren't any)"
   ]
  },
  {
   "cell_type": "markdown",
   "metadata": {},
   "source": [
    "### search vs match\n",
    "Python offers two different primitive operations based on regular expressions: match checks for a match only at the beginning of the string, while search checks for a match anywhere in the string (this is what Perl does by default).\n",
    "\n",
    "### Search and Replace\n",
    "`re.sub(pattern, repl, string, max=0)`\n",
    "\n",
    "This method replaces all occurrences of the RE pattern in string with repl, substituting all occurrences unless max is provided. This method returns modified string."
   ]
  },
  {
   "cell_type": "code",
   "execution_count": 129,
   "metadata": {},
   "outputs": [
    {
     "name": "stdout",
     "output_type": "stream",
     "text": [
      "Phone Num :  2004-959-559 \n",
      "Phone Num :  2004959559\n"
     ]
    }
   ],
   "source": [
    "import re\n",
    "\n",
    "phone = \"2004-959-559 # This is Phone Number\"\n",
    "\n",
    "# Delete Python-style comments\n",
    "num = re.sub(r'#.*$', \"\", phone)\n",
    "print (\"Phone Num : \", num)\n",
    "\n",
    "# Remove anything other than digits\n",
    "num = re.sub(r'\\D', \"\", phone)    \n",
    "print (\"Phone Num : \", num)"
   ]
  },
  {
   "cell_type": "markdown",
   "metadata": {},
   "source": [
    "### Regular Expression Modifiers: Option Flags\n",
    "* `re.I` ---> Performs case-insensitive matching.\n",
    "* `re.L` ---> Interprets words according to the current locale. This interpretation affects the alphabetic group (\\w and \\W), as well as word boundary behavior (\\b and \\B).\n",
    "* `re.M` ---> Makes $ match the end of a line (not just the end of the string) and makes ^ match the start of any line (not just the start of the string).\n",
    "* `re.S` ---> Makes a period (dot) match any character, including a newline.\n",
    "* `re.U` ---> Interprets letters according to the Unicode character set. This flag affects the behavior of \\w, \\W, \\b, \\B.\n",
    "* `re.X` ---> Permits \"cuter\" regular expression syntax. It ignores whitespace (except inside a set [] or when escaped by a backslash) and treats unescaped # as a comment marker.\n",
    "\n",
    "### Regular Expression Examples"
   ]
  },
  {
   "cell_type": "markdown",
   "metadata": {},
   "source": [
    "Example | Description | Example | Description \n",
    "--------|-------------|---------|------------\n",
    "Python | Matches Python | . | Match any character except newline\n",
    "[Pp]ython | Matches for python or Python | \\d | Match a digit: [0-9]\n",
    "rub[ye] | Match \"ruby\" or \"rube\" | \\D | Match a nondigit: [^0-9]\n",
    "[aeiou] | Match any one lowercase vowel | \\s | Match a whitespace character: [ \\t\\r\\n\\f]\n",
    "[0-9] | Match any digit; same as [0123456789] | \\S | Match nonwhitespace: [^ \\t\\r\\n\\f]\n",
    "[a-z] | Match any lowercase ASCII letter | \\w | Match a single word character: [A-Za-z0-9_]\n",
    "[A-Z] | Match any uppercase ASCII letter | \\W | Match a nonword character: [^A-Za-z0-9_]\n",
    "[a-zA-Z0-9] | Match any alphanumeric | <.\\*> | Greedy repetition: matches \"< python > perl >\"\n",
    "[^aeiou] | Match anything other than a lowercase vowel | <.\\*?> | Nongreedy: matches '< python >' in \"< python > perl >\"\n",
    "[^0-9] | Match anything other than a digit | \\D\\d+ | No group: + repeats \\d\n",
    "ruby? | Match \"rub\" or \"ruby\": the y is optional | (\\D\\d)+ | Grouped: + repeats \\D\\d pair\n",
    "ruby* | Match \"rub\" plus 0 or more ys | ([Pp]ython(,)?)+ | Match \"Python\", \"Python, python, python\", etc.\n",
    "ruby+ | Match \"rub\" plus 1 or more ys | ([Pp])ython&\\1ails | Match python&pails or Python&Pails\n",
    "\\d{3} | Match exactly 3 digits | (['\"])[^\\1]\\*\\1 | Single or double-quoted string. \\1 matches whatever the 1st group matched. \\2 matches whatever the 2nd group matched, etc.\n",
    "\\d{3,} | Match 3 or more digits | python\\|perl | Match \"python\" or \"perl\"\n",
    "\\d{3,5} | Match 3, 4, or 5 digits | rub(y\\|le) | Match \"ruby\" or \"ruble\"\n",
    "^Python | Match \"Python\" at the start of a string or internal line | Python(!+\\|\\?) | \"Python\" followed by one or more ! or one ?\n",
    "Python$ | Match \"Python\" at the end of a string or line | \\\\APython | Match \"Python\" at the start of a string\n",
    "Python\\\\Z | Match \"Python\" at the end of a string | \\\\bPython\\\\b | Match \"Python\" at a word boundary\n",
    "\\\\brub\\\\B | \\\\B is nonword boundary: match \"rub\" in \"rube\" and \"ruby\" but not alone | Python(?=!) | Match \"Python\", if followed by an exclamation point.\n",
    "Python(?!!) | Match \"Python\", if not followed by an exclamation point.\n",
    "\n",
    "**https://www.tutorialspoint.com/python3/python_reg_expressions.htm for more examples**"
   ]
  },
  {
   "cell_type": "code",
   "execution_count": 140,
   "metadata": {},
   "outputs": [],
   "source": [
    "\n",
    "some_pattern = r\"(.*)[Pp]ython(.*)\""
   ]
  },
  {
   "cell_type": "code",
   "execution_count": 141,
   "metadata": {},
   "outputs": [],
   "source": [
    "some_string = \"\"\"Python is an interpreted, high-level, general-purpose programming language. Created by Guido van Rossum and first released in 1991, Python's design philosophy emphasizes code readability with its notable use of significant whitespace. Its language constructs and object-oriented approach aim to help programmers write clear, logical code for small and large-scale projects.[27] Python is dynamically typed and garbage-collected. It supports multiple programming paradigms, including procedural, object-oriented, and functional programming. Python is often described as a \"batteries included\" language due to its comprehensive standard library.[28] Python was conceived in the late 1980s as a successor to the ABC language. Python 2.0, released 2000, introduced features like list comprehensions and a garbage collection system capable of collecting reference cycles. Python 3.0, released 2008, was a major revision of the language that is not completely backward-compatible, and much Python 2 code does not run unmodified on Python 3. Due to concern about the amount of code written for Python 2, support for Python 2.7 (the last release in the 2.x series) was extended to 2020. Language developer Guido van Rossum shouldered sole responsibility for the project until July 2018 but now shares his leadership as a member of a five-person steering council.[29][30][31] Python interpreters are available for many operating systems. A global community of programmers develops and maintains CPython, an open source[32] reference implementation. A non-profit organization, the Python Software Foundation, manages and directs resources for Python and CPython development.\"\"\""
   ]
  },
  {
   "cell_type": "code",
   "execution_count": 142,
   "metadata": {},
   "outputs": [
    {
     "name": "stdout",
     "output_type": "stream",
     "text": [
      "('Python is an interpreted, high-level, general-purpose programming language. Created by Guido van Rossum and first released in 1991, Python\\'s design philosophy emphasizes code readability with its notable use of significant whitespace. Its language constructs and object-oriented approach aim to help programmers write clear, logical code for small and large-scale projects.[27] Python is dynamically typed and garbage-collected. It supports multiple programming paradigms, including procedural, object-oriented, and functional programming. Python is often described as a \"batteries included\" language due to its comprehensive standard library.[28] Python was conceived in the late 1980s as a successor to the ABC language. Python 2.0, released 2000, introduced features like list comprehensions and a garbage collection system capable of collecting reference cycles. Python 3.0, released 2008, was a major revision of the language that is not completely backward-compatible, and much Python 2 code does not run unmodified on Python 3. Due to concern about the amount of code written for Python 2, support for Python 2.7 (the last release in the 2.x series) was extended to 2020. Language developer Guido van Rossum shouldered sole responsibility for the project until July 2018 but now shares his leadership as a member of a five-person steering council.[29][30][31] Python interpreters are available for many operating systems. A global community of programmers develops and maintains CPython, an open source[32] reference implementation. A non-profit organization, the Python Software Foundation, manages and directs resources for Python and C', ' development.')\n"
     ]
    }
   ],
   "source": [
    "match_obj = re.match(some_pattern, some_string)\n",
    "print(match_obj.groups())"
   ]
  },
  {
   "cell_type": "markdown",
   "metadata": {},
   "source": [
    "## An Intro to Threading in Python\n",
    "Reference: https://realpython.com/intro-to-python-threading/"
   ]
  },
  {
   "cell_type": "code",
   "execution_count": null,
   "metadata": {},
   "outputs": [],
   "source": []
  }
 ],
 "metadata": {
  "kernelspec": {
   "display_name": "Python 3",
   "language": "python",
   "name": "python3"
  },
  "language_info": {
   "codemirror_mode": {
    "name": "ipython",
    "version": 3
   },
   "file_extension": ".py",
   "mimetype": "text/x-python",
   "name": "python",
   "nbconvert_exporter": "python",
   "pygments_lexer": "ipython3",
   "version": "3.7.4"
  }
 },
 "nbformat": 4,
 "nbformat_minor": 2
}
